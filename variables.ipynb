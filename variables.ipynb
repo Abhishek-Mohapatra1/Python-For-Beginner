{
 "cells": [
  {
   "cell_type": "code",
   "execution_count": 1,
   "id": "f4cf1936",
   "metadata": {},
   "outputs": [
    {
     "data": {
      "text/plain": [
       "5"
      ]
     },
     "execution_count": 1,
     "metadata": {},
     "output_type": "execute_result"
    }
   ],
   "source": [
    "2+3"
   ]
  },
  {
   "cell_type": "code",
   "execution_count": 2,
   "id": "04d76b26",
   "metadata": {},
   "outputs": [
    {
     "data": {
      "text/plain": [
       "6"
      ]
     },
     "execution_count": 2,
     "metadata": {},
     "output_type": "execute_result"
    }
   ],
   "source": [
    "x=3\n",
    "x+3"
   ]
  },
  {
   "cell_type": "code",
   "execution_count": 3,
   "id": "084936c5",
   "metadata": {},
   "outputs": [
    {
     "data": {
      "text/plain": [
       "8"
      ]
     },
     "execution_count": 3,
     "metadata": {},
     "output_type": "execute_result"
    }
   ],
   "source": [
    "y=5\n",
    "x+y"
   ]
  },
  {
   "cell_type": "code",
   "execution_count": 4,
   "id": "fc9bb085",
   "metadata": {},
   "outputs": [
    {
     "data": {
      "text/plain": [
       "3"
      ]
     },
     "execution_count": 4,
     "metadata": {},
     "output_type": "execute_result"
    }
   ],
   "source": [
    "x"
   ]
  },
  {
   "cell_type": "code",
   "execution_count": 5,
   "id": "fe593ad4",
   "metadata": {},
   "outputs": [],
   "source": [
    "# print(abc)\n",
    "\n",
    "# name 'abc' is not defined"
   ]
  },
  {
   "cell_type": "code",
   "execution_count": 6,
   "id": "4e63695f",
   "metadata": {},
   "outputs": [
    {
     "data": {
      "text/plain": [
       "13"
      ]
     },
     "execution_count": 6,
     "metadata": {},
     "output_type": "execute_result"
    }
   ],
   "source": [
    "x+10"
   ]
  },
  {
   "cell_type": "code",
   "execution_count": 7,
   "id": "d7a9cfed",
   "metadata": {},
   "outputs": [
    {
     "data": {
      "text/plain": [
       "18"
      ]
     },
     "execution_count": 7,
     "metadata": {},
     "output_type": "execute_result"
    }
   ],
   "source": [
    "_ +y"
   ]
  },
  {
   "cell_type": "code",
   "execution_count": 8,
   "id": "a600868d",
   "metadata": {},
   "outputs": [],
   "source": [
    "name='youtube'"
   ]
  },
  {
   "cell_type": "code",
   "execution_count": 9,
   "id": "39a7d037",
   "metadata": {},
   "outputs": [
    {
     "data": {
      "text/plain": [
       "'youtube'"
      ]
     },
     "execution_count": 9,
     "metadata": {},
     "output_type": "execute_result"
    }
   ],
   "source": [
    "name"
   ]
  },
  {
   "cell_type": "code",
   "execution_count": 10,
   "id": "24fa0d39",
   "metadata": {},
   "outputs": [
    {
     "data": {
      "text/plain": [
       "'youtube rock'"
      ]
     },
     "execution_count": 10,
     "metadata": {},
     "output_type": "execute_result"
    }
   ],
   "source": [
    "name + ' rock'"
   ]
  },
  {
   "cell_type": "code",
   "execution_count": 11,
   "id": "290c5135",
   "metadata": {},
   "outputs": [],
   "source": [
    "# name \"rocks\"\n",
    "\n",
    "# invalid syntax"
   ]
  },
  {
   "cell_type": "code",
   "execution_count": 12,
   "id": "26f89762",
   "metadata": {},
   "outputs": [
    {
     "data": {
      "text/plain": [
       "'youtube'"
      ]
     },
     "execution_count": 12,
     "metadata": {},
     "output_type": "execute_result"
    }
   ],
   "source": [
    "name"
   ]
  },
  {
   "cell_type": "code",
   "execution_count": 13,
   "id": "052fe3c3",
   "metadata": {},
   "outputs": [
    {
     "data": {
      "text/plain": [
       "'y'"
      ]
     },
     "execution_count": 13,
     "metadata": {},
     "output_type": "execute_result"
    }
   ],
   "source": [
    "name[0]"
   ]
  },
  {
   "cell_type": "code",
   "execution_count": 14,
   "id": "874726c0",
   "metadata": {},
   "outputs": [],
   "source": [
    "# name[8]\n",
    "\n",
    "# we will get error as\n",
    "# string index out of range"
   ]
  },
  {
   "cell_type": "code",
   "execution_count": 15,
   "id": "2234bbe0",
   "metadata": {},
   "outputs": [
    {
     "data": {
      "text/plain": [
       "'e'"
      ]
     },
     "execution_count": 15,
     "metadata": {},
     "output_type": "execute_result"
    }
   ],
   "source": [
    "name[-1]"
   ]
  },
  {
   "cell_type": "code",
   "execution_count": 16,
   "id": "05314d41",
   "metadata": {},
   "outputs": [
    {
     "data": {
      "text/plain": [
       "'e'"
      ]
     },
     "execution_count": 16,
     "metadata": {},
     "output_type": "execute_result"
    }
   ],
   "source": [
    "name[::-1][0]"
   ]
  },
  {
   "cell_type": "code",
   "execution_count": 17,
   "id": "afd7318b",
   "metadata": {},
   "outputs": [
    {
     "data": {
      "text/plain": [
       "'yout'"
      ]
     },
     "execution_count": 17,
     "metadata": {},
     "output_type": "execute_result"
    }
   ],
   "source": [
    "name[0:4]"
   ]
  },
  {
   "cell_type": "code",
   "execution_count": 18,
   "id": "dafc411d",
   "metadata": {},
   "outputs": [
    {
     "data": {
      "text/plain": [
       "'outube'"
      ]
     },
     "execution_count": 18,
     "metadata": {},
     "output_type": "execute_result"
    }
   ],
   "source": [
    "name[1:]"
   ]
  },
  {
   "cell_type": "code",
   "execution_count": 19,
   "id": "6c833a98",
   "metadata": {},
   "outputs": [
    {
     "data": {
      "text/plain": [
       "'yout'"
      ]
     },
     "execution_count": 19,
     "metadata": {},
     "output_type": "execute_result"
    }
   ],
   "source": [
    "name[:4]"
   ]
  },
  {
   "cell_type": "code",
   "execution_count": 20,
   "id": "52628f05",
   "metadata": {},
   "outputs": [
    {
     "data": {
      "text/plain": [
       "'tube'"
      ]
     },
     "execution_count": 20,
     "metadata": {},
     "output_type": "execute_result"
    }
   ],
   "source": [
    "name[3:10]"
   ]
  },
  {
   "cell_type": "code",
   "execution_count": 21,
   "id": "94b2b5ea",
   "metadata": {},
   "outputs": [],
   "source": [
    "# name[0:3]='my'\n",
    "\n",
    "# 'str' object does not support item assignment"
   ]
  },
  {
   "cell_type": "code",
   "execution_count": 22,
   "id": "c8782085",
   "metadata": {},
   "outputs": [
    {
     "data": {
      "text/plain": [
       "'my tube'"
      ]
     },
     "execution_count": 22,
     "metadata": {},
     "output_type": "execute_result"
    }
   ],
   "source": [
    "'my ' + name[3:]"
   ]
  },
  {
   "cell_type": "code",
   "execution_count": 23,
   "id": "3721b776",
   "metadata": {},
   "outputs": [],
   "source": [
    "myname='abhishek mohapatra'"
   ]
  },
  {
   "cell_type": "code",
   "execution_count": 24,
   "id": "473db7ff",
   "metadata": {},
   "outputs": [
    {
     "data": {
      "text/plain": [
       "18"
      ]
     },
     "execution_count": 24,
     "metadata": {},
     "output_type": "execute_result"
    }
   ],
   "source": [
    "len(myname)"
   ]
  },
  {
   "cell_type": "markdown",
   "id": "cad7ac28",
   "metadata": {},
   "source": [
    "# more on variables"
   ]
  },
  {
   "cell_type": "code",
   "execution_count": 25,
   "id": "87218232",
   "metadata": {},
   "outputs": [],
   "source": [
    "num=5"
   ]
  },
  {
   "cell_type": "code",
   "execution_count": 26,
   "id": "ea16b9f1",
   "metadata": {},
   "outputs": [
    {
     "data": {
      "text/plain": [
       "2178797365680"
      ]
     },
     "execution_count": 26,
     "metadata": {},
     "output_type": "execute_result"
    }
   ],
   "source": [
    "id(num)"
   ]
  },
  {
   "cell_type": "code",
   "execution_count": 27,
   "id": "6585ca3c",
   "metadata": {},
   "outputs": [],
   "source": [
    "name='abhishek'"
   ]
  },
  {
   "cell_type": "code",
   "execution_count": 28,
   "id": "74c4273b",
   "metadata": {},
   "outputs": [
    {
     "data": {
      "text/plain": [
       "2178878650224"
      ]
     },
     "execution_count": 28,
     "metadata": {},
     "output_type": "execute_result"
    }
   ],
   "source": [
    "id(name)"
   ]
  },
  {
   "cell_type": "code",
   "execution_count": 29,
   "id": "947793af",
   "metadata": {},
   "outputs": [],
   "source": [
    "a=10\n",
    "b=a"
   ]
  },
  {
   "cell_type": "code",
   "execution_count": 30,
   "id": "4a924ccc",
   "metadata": {},
   "outputs": [
    {
     "data": {
      "text/plain": [
       "10"
      ]
     },
     "execution_count": 30,
     "metadata": {},
     "output_type": "execute_result"
    }
   ],
   "source": [
    "a"
   ]
  },
  {
   "cell_type": "code",
   "execution_count": 31,
   "id": "76f05288",
   "metadata": {},
   "outputs": [
    {
     "data": {
      "text/plain": [
       "10"
      ]
     },
     "execution_count": 31,
     "metadata": {},
     "output_type": "execute_result"
    }
   ],
   "source": [
    "b"
   ]
  },
  {
   "cell_type": "code",
   "execution_count": 32,
   "id": "abb58481",
   "metadata": {},
   "outputs": [
    {
     "data": {
      "text/plain": [
       "2178797365840"
      ]
     },
     "execution_count": 32,
     "metadata": {},
     "output_type": "execute_result"
    }
   ],
   "source": [
    "id(a)"
   ]
  },
  {
   "cell_type": "code",
   "execution_count": 33,
   "id": "ac4a5481",
   "metadata": {},
   "outputs": [
    {
     "data": {
      "text/plain": [
       "2178797365840"
      ]
     },
     "execution_count": 33,
     "metadata": {},
     "output_type": "execute_result"
    }
   ],
   "source": [
    "id(b)"
   ]
  },
  {
   "cell_type": "code",
   "execution_count": 34,
   "id": "e8fd3fe6",
   "metadata": {},
   "outputs": [
    {
     "data": {
      "text/plain": [
       "2178797365840"
      ]
     },
     "execution_count": 34,
     "metadata": {},
     "output_type": "execute_result"
    }
   ],
   "source": [
    "id(10)"
   ]
  },
  {
   "cell_type": "raw",
   "id": "96a97fd4",
   "metadata": {},
   "source": [
    "here we can see that the \"id\" for a,b is same "
   ]
  },
  {
   "cell_type": "code",
   "execution_count": 35,
   "id": "e986a81e",
   "metadata": {},
   "outputs": [
    {
     "data": {
      "text/plain": [
       "2178797365808"
      ]
     },
     "execution_count": 35,
     "metadata": {},
     "output_type": "execute_result"
    }
   ],
   "source": [
    "k=9\n",
    "id(k)"
   ]
  },
  {
   "cell_type": "code",
   "execution_count": 36,
   "id": "6a139989",
   "metadata": {},
   "outputs": [],
   "source": [
    "pi=3.14  # In python we cant make a variable constant"
   ]
  },
  {
   "cell_type": "code",
   "execution_count": 37,
   "id": "e48fd4c4",
   "metadata": {},
   "outputs": [
    {
     "data": {
      "text/plain": [
       "3.14"
      ]
     },
     "execution_count": 37,
     "metadata": {},
     "output_type": "execute_result"
    }
   ],
   "source": [
    "pi"
   ]
  },
  {
   "cell_type": "code",
   "execution_count": 38,
   "id": "5d053263",
   "metadata": {},
   "outputs": [
    {
     "data": {
      "text/plain": [
       "2178878445040"
      ]
     },
     "execution_count": 38,
     "metadata": {},
     "output_type": "execute_result"
    }
   ],
   "source": [
    "id(pi)"
   ]
  },
  {
   "cell_type": "code",
   "execution_count": 39,
   "id": "56f5906e",
   "metadata": {},
   "outputs": [
    {
     "data": {
      "text/plain": [
       "float"
      ]
     },
     "execution_count": 39,
     "metadata": {},
     "output_type": "execute_result"
    }
   ],
   "source": [
    "type(pi)"
   ]
  },
  {
   "cell_type": "code",
   "execution_count": 40,
   "id": "603b33e5",
   "metadata": {},
   "outputs": [
    {
     "data": {
      "text/plain": [
       "int"
      ]
     },
     "execution_count": 40,
     "metadata": {},
     "output_type": "execute_result"
    }
   ],
   "source": [
    "type(a)"
   ]
  },
  {
   "cell_type": "code",
   "execution_count": 41,
   "id": "be96cf1c",
   "metadata": {},
   "outputs": [],
   "source": [
    "k='abhi'"
   ]
  },
  {
   "cell_type": "code",
   "execution_count": 42,
   "id": "50a23bfa",
   "metadata": {},
   "outputs": [
    {
     "data": {
      "text/plain": [
       "str"
      ]
     },
     "execution_count": 42,
     "metadata": {},
     "output_type": "execute_result"
    }
   ],
   "source": [
    "type(k)"
   ]
  },
  {
   "cell_type": "code",
   "execution_count": null,
   "id": "88dde849",
   "metadata": {},
   "outputs": [],
   "source": []
  }
 ],
 "metadata": {
  "kernelspec": {
   "display_name": "Python 3 (ipykernel)",
   "language": "python",
   "name": "python3"
  },
  "language_info": {
   "codemirror_mode": {
    "name": "ipython",
    "version": 3
   },
   "file_extension": ".py",
   "mimetype": "text/x-python",
   "name": "python",
   "nbconvert_exporter": "python",
   "pygments_lexer": "ipython3",
   "version": "3.9.7"
  }
 },
 "nbformat": 4,
 "nbformat_minor": 5
}
