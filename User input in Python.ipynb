{
 "cells": [
  {
   "cell_type": "code",
   "execution_count": 1,
   "id": "6d1cae50",
   "metadata": {},
   "outputs": [
    {
     "name": "stdout",
     "output_type": "stream",
     "text": [
      "enter the value of x : 34\n",
      "<class 'str'>\n",
      "enter the value of y : 23\n",
      "3423\n"
     ]
    }
   ],
   "source": [
    "x=input('enter the value of x : ')\n",
    "print(type(x))\n",
    "y=input('enter the value of y : ')\n",
    "z=x+y\n",
    "print(z)"
   ]
  },
  {
   "cell_type": "code",
   "execution_count": 2,
   "id": "195283c7",
   "metadata": {},
   "outputs": [],
   "source": [
    "# So,here we are getting the adding of 3+5 = 35.\n",
    "# Because, input function always gives the input in \"str\". So, to overcome this prb we use \"int\" with input"
   ]
  },
  {
   "cell_type": "code",
   "execution_count": 3,
   "id": "3ac1858f",
   "metadata": {},
   "outputs": [
    {
     "name": "stdout",
     "output_type": "stream",
     "text": [
      "enter the value of x : 322\n",
      "enter the value of y : 34\n",
      "356\n"
     ]
    }
   ],
   "source": [
    "x=int(input('enter the value of x : '))\n",
    "y=int(input('enter the value of y : '))\n",
    "z=x+y\n",
    "print(z)"
   ]
  },
  {
   "cell_type": "markdown",
   "id": "62f74f1a",
   "metadata": {},
   "source": [
    "### inputing a char"
   ]
  },
  {
   "cell_type": "code",
   "execution_count": 4,
   "id": "7e7fc232",
   "metadata": {},
   "outputs": [
    {
     "name": "stdout",
     "output_type": "stream",
     "text": [
      "enter the char :walter\n",
      "walt\n"
     ]
    }
   ],
   "source": [
    "cha=input('enter the char :')[0:4]\n",
    "print(cha)"
   ]
  },
  {
   "cell_type": "markdown",
   "id": "d0fb5c9a",
   "metadata": {},
   "source": [
    "### using \"eval\" evaluation with input"
   ]
  },
  {
   "cell_type": "code",
   "execution_count": 6,
   "id": "012da055",
   "metadata": {},
   "outputs": [
    {
     "name": "stdout",
     "output_type": "stream",
     "text": [
      "enter the char/number :23\n",
      "23\n"
     ]
    }
   ],
   "source": [
    "result=eval(input('enter the number :'))\n",
    "print(result)"
   ]
  },
  {
   "cell_type": "code",
   "execution_count": 7,
   "id": "f75fe3bd",
   "metadata": {},
   "outputs": [],
   "source": [
    "# import sys\n",
    "# x=int(sys.argv[1])\n",
    "# y=int(sys.argv[2])\n",
    "# z=x+y"
   ]
  },
  {
   "cell_type": "code",
   "execution_count": null,
   "id": "658dfc7e",
   "metadata": {},
   "outputs": [],
   "source": []
  },
  {
   "cell_type": "code",
   "execution_count": null,
   "id": "310440e2",
   "metadata": {},
   "outputs": [],
   "source": []
  }
 ],
 "metadata": {
  "kernelspec": {
   "display_name": "Python 3 (ipykernel)",
   "language": "python",
   "name": "python3"
  },
  "language_info": {
   "codemirror_mode": {
    "name": "ipython",
    "version": 3
   },
   "file_extension": ".py",
   "mimetype": "text/x-python",
   "name": "python",
   "nbconvert_exporter": "python",
   "pygments_lexer": "ipython3",
   "version": "3.9.7"
  }
 },
 "nbformat": 4,
 "nbformat_minor": 5
}
