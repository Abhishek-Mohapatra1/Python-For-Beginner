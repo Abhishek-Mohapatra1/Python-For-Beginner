{
 "cells": [
  {
   "cell_type": "code",
   "execution_count": 1,
   "id": "9184d904",
   "metadata": {},
   "outputs": [],
   "source": [
    "# - Binary             base 2            (0,1)\n",
    "# - decimals           base 10           range(0,9)\n",
    "# - hexa-decimals      base 16           range(0:9 ,a-f)\n",
    "# - octal              base 8            range(0,7)"
   ]
  },
  {
   "cell_type": "markdown",
   "id": "1824f270",
   "metadata": {},
   "source": [
    "# Binary 0b"
   ]
  },
  {
   "cell_type": "code",
   "execution_count": 2,
   "id": "b47d0d03",
   "metadata": {},
   "outputs": [
    {
     "data": {
      "text/plain": [
       "'0b11001'"
      ]
     },
     "execution_count": 2,
     "metadata": {},
     "output_type": "execute_result"
    }
   ],
   "source": [
    "bin(25)"
   ]
  },
  {
   "cell_type": "code",
   "execution_count": 3,
   "id": "0ef1737e",
   "metadata": {},
   "outputs": [],
   "source": [
    "# binary format of 25\n",
    "\n",
    "# 2 | 25 -> 1\n",
    "# 2 | 12 -> 0\n",
    "# 2 | 6  -> 0\n",
    "# 2 | 3  -> 1\n",
    "# 2 | 1  -> 1\n",
    "\n",
    "# binary format is in reverse order from bottom to top  i.e, \"11001\""
   ]
  },
  {
   "cell_type": "code",
   "execution_count": 4,
   "id": "c4c48bb7",
   "metadata": {},
   "outputs": [
    {
     "data": {
      "text/plain": [
       "5"
      ]
     },
     "execution_count": 4,
     "metadata": {},
     "output_type": "execute_result"
    }
   ],
   "source": [
    "0b0101  # 0b for binary "
   ]
  },
  {
   "cell_type": "code",
   "execution_count": 5,
   "id": "06245221",
   "metadata": {},
   "outputs": [
    {
     "data": {
      "text/plain": [
       "9"
      ]
     },
     "execution_count": 5,
     "metadata": {},
     "output_type": "execute_result"
    }
   ],
   "source": [
    "0b1001"
   ]
  },
  {
   "cell_type": "code",
   "execution_count": 6,
   "id": "a6ce3543",
   "metadata": {},
   "outputs": [
    {
     "data": {
      "text/plain": [
       "'0o31'"
      ]
     },
     "execution_count": 6,
     "metadata": {},
     "output_type": "execute_result"
    }
   ],
   "source": [
    "oct(25)   # 0o for octal"
   ]
  },
  {
   "cell_type": "code",
   "execution_count": 7,
   "id": "6226facf",
   "metadata": {},
   "outputs": [
    {
     "data": {
      "text/plain": [
       "'0x19'"
      ]
     },
     "execution_count": 7,
     "metadata": {},
     "output_type": "execute_result"
    }
   ],
   "source": [
    "hex(25)   # 0x for hex-decimals"
   ]
  },
  {
   "cell_type": "code",
   "execution_count": 8,
   "id": "c491a5ac",
   "metadata": {},
   "outputs": [
    {
     "data": {
      "text/plain": [
       "'0xa'"
      ]
     },
     "execution_count": 8,
     "metadata": {},
     "output_type": "execute_result"
    }
   ],
   "source": [
    "hex(10)"
   ]
  },
  {
   "cell_type": "code",
   "execution_count": 9,
   "id": "74e96222",
   "metadata": {},
   "outputs": [
    {
     "data": {
      "text/plain": [
       "15"
      ]
     },
     "execution_count": 9,
     "metadata": {},
     "output_type": "execute_result"
    }
   ],
   "source": [
    "0xf  "
   ]
  },
  {
   "cell_type": "code",
   "execution_count": 10,
   "id": "712e27b2",
   "metadata": {},
   "outputs": [],
   "source": [
    "# binary format of 52\n",
    "\n",
    "# 2 | 52 -> 0\n",
    "# 2 | 26 -> 0\n",
    "# 2 | 13  -> 1\n",
    "# 2 | 6  -> 0\n",
    "# 2 | 3  -> 1\n",
    "# 2 | 1  -> 1\n",
    "\n",
    "# binary format is in reverse order from bottom to top  i.e, \"110100\""
   ]
  },
  {
   "cell_type": "code",
   "execution_count": 11,
   "id": "ebfe9c5c",
   "metadata": {},
   "outputs": [
    {
     "data": {
      "text/plain": [
       "5"
      ]
     },
     "execution_count": 11,
     "metadata": {},
     "output_type": "execute_result"
    }
   ],
   "source": [
    "0b000101"
   ]
  },
  {
   "cell_type": "code",
   "execution_count": 12,
   "id": "1757e439",
   "metadata": {},
   "outputs": [
    {
     "data": {
      "text/plain": [
       "'0b110100'"
      ]
     },
     "execution_count": 12,
     "metadata": {},
     "output_type": "execute_result"
    }
   ],
   "source": [
    "bin(52)"
   ]
  },
  {
   "cell_type": "markdown",
   "id": "54b05547",
   "metadata": {},
   "source": [
    "# Octal  0o"
   ]
  },
  {
   "cell_type": "code",
   "execution_count": 13,
   "id": "a9827411",
   "metadata": {},
   "outputs": [
    {
     "data": {
      "text/plain": [
       "'0o64'"
      ]
     },
     "execution_count": 13,
     "metadata": {},
     "output_type": "execute_result"
    }
   ],
   "source": [
    "oct(52)"
   ]
  },
  {
   "cell_type": "code",
   "execution_count": 14,
   "id": "c2cb47f3",
   "metadata": {},
   "outputs": [],
   "source": [
    "# oct format of 52\n",
    "\n",
    "# 8 | 52 -> 4\n",
    "# 8 | 6 \n",
    "\n",
    "\n",
    "# binary format is in reverse order from bottom to top  i.e, \"0o64\""
   ]
  },
  {
   "cell_type": "code",
   "execution_count": 15,
   "id": "28c390fe",
   "metadata": {},
   "outputs": [
    {
     "data": {
      "text/plain": [
       "'0o31'"
      ]
     },
     "execution_count": 15,
     "metadata": {},
     "output_type": "execute_result"
    }
   ],
   "source": [
    "oct(25)"
   ]
  },
  {
   "cell_type": "code",
   "execution_count": 16,
   "id": "20739217",
   "metadata": {},
   "outputs": [],
   "source": [
    "# oct format of 25\n",
    "\n",
    "# 8 | 25 -> 1\n",
    "# 8 | 3 \n",
    "\n",
    "\n",
    "# binary format is in reverse order from bottom to top  i.e, \"0o31\""
   ]
  },
  {
   "cell_type": "code",
   "execution_count": 17,
   "id": "9c88f7d2",
   "metadata": {},
   "outputs": [
    {
     "data": {
      "text/plain": [
       "'0o44'"
      ]
     },
     "execution_count": 17,
     "metadata": {},
     "output_type": "execute_result"
    }
   ],
   "source": [
    "oct(36)"
   ]
  },
  {
   "cell_type": "code",
   "execution_count": 18,
   "id": "8f9ede3b",
   "metadata": {},
   "outputs": [],
   "source": [
    "# oct format of 36\n",
    "\n",
    "# 8 | 36 -> 4\n",
    "# 8 | 4 \n",
    "\n",
    "\n",
    "# binary format is in reverse order from bottom to top  i.e, \"0o44\""
   ]
  },
  {
   "cell_type": "markdown",
   "id": "0b5e14cb",
   "metadata": {},
   "source": [
    "# hexa-decimals  0x"
   ]
  },
  {
   "cell_type": "code",
   "execution_count": 19,
   "id": "86324319",
   "metadata": {},
   "outputs": [
    {
     "data": {
      "text/plain": [
       "'0x22'"
      ]
     },
     "execution_count": 19,
     "metadata": {},
     "output_type": "execute_result"
    }
   ],
   "source": [
    "hex(34)"
   ]
  },
  {
   "cell_type": "code",
   "execution_count": 20,
   "id": "ed51ceba",
   "metadata": {},
   "outputs": [],
   "source": [
    "# hex format of 34\n",
    "\n",
    "# 16 | 34 -> 2\n",
    "# 16 | 2 \n",
    "\n",
    "\n",
    "# binary format is in reverse order from bottom to top  i.e, \"0x22\""
   ]
  },
  {
   "cell_type": "code",
   "execution_count": 21,
   "id": "91a6ed47",
   "metadata": {},
   "outputs": [
    {
     "data": {
      "text/plain": [
       "'0x4b'"
      ]
     },
     "execution_count": 21,
     "metadata": {},
     "output_type": "execute_result"
    }
   ],
   "source": [
    "hex(75)"
   ]
  },
  {
   "cell_type": "code",
   "execution_count": 22,
   "id": "884034b2",
   "metadata": {},
   "outputs": [],
   "source": [
    "# hex format of 75\n",
    "\n",
    "# 16 | 75 -> 11      # 11=b\n",
    "# 16 | 4 \n",
    "\n",
    "\n",
    "# binary format is in reverse order from bottom to top  i.e, \"0x4b\""
   ]
  },
  {
   "cell_type": "code",
   "execution_count": 23,
   "id": "2e2b1261",
   "metadata": {},
   "outputs": [
    {
     "data": {
      "text/plain": [
       "'0x6b'"
      ]
     },
     "execution_count": 23,
     "metadata": {},
     "output_type": "execute_result"
    }
   ],
   "source": [
    "hex(107)"
   ]
  },
  {
   "cell_type": "code",
   "execution_count": 24,
   "id": "a5658c56",
   "metadata": {},
   "outputs": [],
   "source": [
    "# hex format of 107\n",
    "\n",
    "# 16 | 107 -> 11      # 11=b\n",
    "# 16 | 6 \n",
    "\n",
    "\n",
    "# binary format is in reverse order from bottom to top  i.e, \"0x6b\""
   ]
  },
  {
   "cell_type": "markdown",
   "id": "636fe150",
   "metadata": {},
   "source": [
    "### Reverse calculation"
   ]
  },
  {
   "cell_type": "code",
   "execution_count": 25,
   "id": "c85ce60e",
   "metadata": {},
   "outputs": [],
   "source": [
    "# binary format to get the number from binary \"11001\"\n",
    "\n",
    "# num=              1 1 0 0 1\n",
    "#                   4 3 2 1 0\n",
    "# power =           * * * * *\n",
    "# power of bin=     2 2 2 2 2\n",
    "#                  ___________\n",
    "#                  16 8 0 0 1  \n",
    "                 \n",
    "#                  add all the numbers indivdually and we get = 25\n"
   ]
  },
  {
   "cell_type": "code",
   "execution_count": 26,
   "id": "c944399e",
   "metadata": {},
   "outputs": [
    {
     "data": {
      "text/plain": [
       "25"
      ]
     },
     "execution_count": 26,
     "metadata": {},
     "output_type": "execute_result"
    }
   ],
   "source": [
    "0b11001"
   ]
  },
  {
   "cell_type": "code",
   "execution_count": 27,
   "id": "2d5c86ff",
   "metadata": {},
   "outputs": [],
   "source": [
    "# binary format to get the number from binary \"110011010\"\n",
    "\n",
    "# num=                 1 1 0 0 1 1 0 1 0\n",
    "#                      8 7 6 5 4 3 2 1 0\n",
    "# power =              * * * * * * * * *\n",
    "# power of bin=        2 2 2 2 2 2 2 2 2\n",
    "#                     ___________________\n",
    "#                 256 128 0 0 16 8 0 2 0  \n",
    "                 \n",
    "#                  add all the numbers indivdually and we get = 410\n"
   ]
  },
  {
   "cell_type": "code",
   "execution_count": 28,
   "id": "419bdcdb",
   "metadata": {},
   "outputs": [
    {
     "data": {
      "text/plain": [
       "410"
      ]
     },
     "execution_count": 28,
     "metadata": {},
     "output_type": "execute_result"
    }
   ],
   "source": [
    "0b110011010"
   ]
  },
  {
   "cell_type": "code",
   "execution_count": null,
   "id": "2129ebdc",
   "metadata": {},
   "outputs": [],
   "source": []
  }
 ],
 "metadata": {
  "kernelspec": {
   "display_name": "Python 3 (ipykernel)",
   "language": "python",
   "name": "python3"
  },
  "language_info": {
   "codemirror_mode": {
    "name": "ipython",
    "version": 3
   },
   "file_extension": ".py",
   "mimetype": "text/x-python",
   "name": "python",
   "nbconvert_exporter": "python",
   "pygments_lexer": "ipython3",
   "version": "3.9.7"
  }
 },
 "nbformat": 4,
 "nbformat_minor": 5
}
