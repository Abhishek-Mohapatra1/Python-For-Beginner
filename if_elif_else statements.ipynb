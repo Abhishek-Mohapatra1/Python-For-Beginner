{
 "cells": [
  {
   "cell_type": "code",
   "execution_count": 1,
   "id": "766fc8a0",
   "metadata": {},
   "outputs": [
    {
     "name": "stdout",
     "output_type": "stream",
     "text": [
      "Im right\n"
     ]
    }
   ],
   "source": [
    "if True:\n",
    "    print('Im right')"
   ]
  },
  {
   "cell_type": "code",
   "execution_count": 2,
   "id": "88c5d123",
   "metadata": {},
   "outputs": [],
   "source": [
    "if False:\n",
    "    print('Im right')"
   ]
  },
  {
   "cell_type": "code",
   "execution_count": 3,
   "id": "6ba5f301",
   "metadata": {},
   "outputs": [
    {
     "name": "stdout",
     "output_type": "stream",
     "text": [
      "bye\n"
     ]
    }
   ],
   "source": [
    "if False:\n",
    "    print('Im right')\n",
    "    \n",
    "    \n",
    "    \n",
    "print('bye')"
   ]
  },
  {
   "cell_type": "code",
   "execution_count": 4,
   "id": "9d2279d5",
   "metadata": {},
   "outputs": [],
   "source": [
    "x=3\n",
    "r=x%2\n",
    "if r==0:\n",
    "    print('even')\n",
    "    "
   ]
  },
  {
   "cell_type": "code",
   "execution_count": 5,
   "id": "f3ddd115",
   "metadata": {},
   "outputs": [
    {
     "name": "stdout",
     "output_type": "stream",
     "text": [
      "even\n"
     ]
    }
   ],
   "source": [
    "x=8\n",
    "r=x%2\n",
    "if r==0:\n",
    "    print('even')"
   ]
  },
  {
   "cell_type": "code",
   "execution_count": 6,
   "id": "b3fe3038",
   "metadata": {},
   "outputs": [],
   "source": [
    "# if it is checking for this statement and its True then it should'nt check the other statements which is \n",
    "# happening here in above syntax.Hence we should be using else statements"
   ]
  },
  {
   "cell_type": "code",
   "execution_count": 7,
   "id": "c6f93f23",
   "metadata": {},
   "outputs": [
    {
     "name": "stdout",
     "output_type": "stream",
     "text": [
      "enter a number :10\n",
      "even\n"
     ]
    }
   ],
   "source": [
    "x=int(input('enter a number :'))\n",
    "r=x%2\n",
    "if r==0:\n",
    "    print('even')\n",
    "if r==1:\n",
    "    print('odd')"
   ]
  },
  {
   "cell_type": "code",
   "execution_count": 8,
   "id": "79ba9f5c",
   "metadata": {},
   "outputs": [
    {
     "name": "stdout",
     "output_type": "stream",
     "text": [
      "enter the number :23\n",
      "odd\n"
     ]
    }
   ],
   "source": [
    "x=eval(input('enter the number :'))\n",
    "r=x%2\n",
    "if r==0:               \n",
    "    print('even')\n",
    "else :\n",
    "    print('odd')   "
   ]
  },
  {
   "cell_type": "code",
   "execution_count": 9,
   "id": "a5faa143",
   "metadata": {},
   "outputs": [],
   "source": [
    "# if inside a if statement"
   ]
  },
  {
   "cell_type": "code",
   "execution_count": 10,
   "id": "75b002c3",
   "metadata": {},
   "outputs": [
    {
     "name": "stdout",
     "output_type": "stream",
     "text": [
      "enter the number :7\n",
      "odd\n"
     ]
    }
   ],
   "source": [
    "x=eval(input('enter the number :'))\n",
    "z=x%2\n",
    "if z==0:                                   # only if this is true it will go for next \"if\" condition else print('odd')\n",
    "    print('the number is Even & ')\n",
    "    if x>4:\n",
    "        print(\"it's greater than 4\")\n",
    "    elif x==4:\n",
    "        print('the number is equal to 4')\n",
    "    else:\n",
    "        print('it is less than 4')\n",
    "else:\n",
    "    print('odd')\n",
    "    "
   ]
  },
  {
   "cell_type": "code",
   "execution_count": 12,
   "id": "d7b68e37",
   "metadata": {},
   "outputs": [
    {
     "name": "stdout",
     "output_type": "stream",
     "text": [
      "enter the number :5\n",
      "Number not found\n"
     ]
    }
   ],
   "source": [
    "x=eval(input('enter the number :'))\n",
    "if (x==1):\n",
    "    print('one')\n",
    "elif (x==2):\n",
    "    print('two')\n",
    "elif (x==3):\n",
    "    print('three')\n",
    "else:\n",
    "    print('Number not found')"
   ]
  },
  {
   "cell_type": "code",
   "execution_count": 13,
   "id": "080819c9",
   "metadata": {},
   "outputs": [
    {
     "name": "stdout",
     "output_type": "stream",
     "text": [
      "the number is  4\n"
     ]
    }
   ],
   "source": [
    "x=4\n",
    "if x==0:\n",
    "    print('Zero')\n",
    "elif x==1:\n",
    "    print('one')\n",
    "elif x==2:\n",
    "    print('two')\n",
    "else:\n",
    "    print('the number is ',x)"
   ]
  },
  {
   "cell_type": "code",
   "execution_count": 14,
   "id": "302ef19b",
   "metadata": {},
   "outputs": [],
   "source": [
    "# 1- write a code to check a given number is negative or positive"
   ]
  },
  {
   "cell_type": "code",
   "execution_count": 15,
   "id": "28b5c9de",
   "metadata": {},
   "outputs": [
    {
     "name": "stdout",
     "output_type": "stream",
     "text": [
      "enter the number :-1982\n",
      "the number is negative\n"
     ]
    }
   ],
   "source": [
    "x=eval(input('enter the number :'))\n",
    "if x>=0:\n",
    "    print('the number is Positive')\n",
    "else:\n",
    "    print('the number is negative')"
   ]
  },
  {
   "cell_type": "code",
   "execution_count": 16,
   "id": "38931009",
   "metadata": {},
   "outputs": [],
   "source": [
    "# 2- take three values from user and find the greatest number from them."
   ]
  },
  {
   "cell_type": "code",
   "execution_count": 17,
   "id": "d4f505f0",
   "metadata": {},
   "outputs": [
    {
     "name": "stdout",
     "output_type": "stream",
     "text": [
      "9  is the greatest number\n",
      "None\n"
     ]
    }
   ],
   "source": [
    "def max_number(a,b,c):\n",
    "    if a>b and a>c:\n",
    "        print(a,'is the greatest number')\n",
    "    elif b>c and b>a:\n",
    "        print(b,' is the greatest number')\n",
    "    else:\n",
    "        print(c,' is the greatest number')\n",
    "print(max_number(5,7,9))"
   ]
  },
  {
   "cell_type": "code",
   "execution_count": null,
   "id": "3f1c8bc9",
   "metadata": {},
   "outputs": [],
   "source": [
    "# 3- Write a program to input 10 numbers and find the largest and the smallest in python.\n",
    "# (will be covered in \"for\" loop notebook)"
   ]
  },
  {
   "cell_type": "code",
   "execution_count": 18,
   "id": "2cbf02f7",
   "metadata": {},
   "outputs": [
    {
     "name": "stdout",
     "output_type": "stream",
     "text": [
      "enter the total numbers of input: 5\n",
      "enter the 1 element from the input :1\n",
      "enter the 2 element from the input :43\n",
      "enter the 3 element from the input :768\n",
      "enter the 4 element from the input :23\n",
      "enter the 5 element from the input :748\n",
      "The largest number from the list is : 768\n",
      "The smallest number from the list is : 1\n"
     ]
    }
   ],
   "source": [
    "number=eval(input('enter the total numbers of input: '))\n",
    "num=[]\n",
    "for i in range(1,number+1):\n",
    "    x=eval(input('enter the %i element from the input :'%i))\n",
    "    num.append(x)\n",
    "num.sort()\n",
    "\n",
    "print('The largest number from the list is :',num[-1])\n",
    "print('The smallest number from the list is :',num[0])"
   ]
  },
  {
   "cell_type": "code",
   "execution_count": null,
   "id": "8642b24d",
   "metadata": {},
   "outputs": [],
   "source": []
  }
 ],
 "metadata": {
  "kernelspec": {
   "display_name": "Python 3 (ipykernel)",
   "language": "python",
   "name": "python3"
  },
  "language_info": {
   "codemirror_mode": {
    "name": "ipython",
    "version": 3
   },
   "file_extension": ".py",
   "mimetype": "text/x-python",
   "name": "python",
   "nbconvert_exporter": "python",
   "pygments_lexer": "ipython3",
   "version": "3.9.7"
  }
 },
 "nbformat": 4,
 "nbformat_minor": 5
}
