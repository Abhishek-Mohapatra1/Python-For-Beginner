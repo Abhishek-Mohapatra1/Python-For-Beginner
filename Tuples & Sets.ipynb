{
 "cells": [
  {
   "cell_type": "markdown",
   "id": "22427ff8",
   "metadata": {},
   "source": [
    "# Tuples"
   ]
  },
  {
   "cell_type": "code",
   "execution_count": 1,
   "id": "75e7e148",
   "metadata": {},
   "outputs": [],
   "source": [
    "# Tuple are immutable,iteration is faster than list"
   ]
  },
  {
   "cell_type": "code",
   "execution_count": 2,
   "id": "863e43e8",
   "metadata": {},
   "outputs": [],
   "source": [
    "tup=(21,36,14,25)"
   ]
  },
  {
   "cell_type": "code",
   "execution_count": 3,
   "id": "651cc8a2",
   "metadata": {},
   "outputs": [
    {
     "data": {
      "text/plain": [
       "(21, 36, 14, 25)"
      ]
     },
     "execution_count": 3,
     "metadata": {},
     "output_type": "execute_result"
    }
   ],
   "source": [
    "tup"
   ]
  },
  {
   "cell_type": "code",
   "execution_count": 4,
   "id": "c27203db",
   "metadata": {},
   "outputs": [
    {
     "data": {
      "text/plain": [
       "21"
      ]
     },
     "execution_count": 4,
     "metadata": {},
     "output_type": "execute_result"
    }
   ],
   "source": [
    "tup[0]"
   ]
  },
  {
   "cell_type": "code",
   "execution_count": 5,
   "id": "840d48c0",
   "metadata": {},
   "outputs": [],
   "source": [
    "# tup[0]=33\n",
    "\n",
    "# 'tuple' object does not support item assignment"
   ]
  },
  {
   "cell_type": "code",
   "execution_count": 6,
   "id": "4f149c60",
   "metadata": {},
   "outputs": [
    {
     "data": {
      "text/plain": [
       "1"
      ]
     },
     "execution_count": 6,
     "metadata": {},
     "output_type": "execute_result"
    }
   ],
   "source": [
    "tup.count(21)"
   ]
  },
  {
   "cell_type": "markdown",
   "id": "fa1b8d0d",
   "metadata": {},
   "source": [
    "# set"
   ]
  },
  {
   "cell_type": "raw",
   "id": "54e1d92e",
   "metadata": {},
   "source": [
    "sets are mutable and we can add diff dtype"
   ]
  },
  {
   "cell_type": "code",
   "execution_count": 7,
   "id": "30d355cb",
   "metadata": {},
   "outputs": [],
   "source": [
    "s={22,25,14,21,5}"
   ]
  },
  {
   "cell_type": "code",
   "execution_count": 8,
   "id": "cc73d897",
   "metadata": {},
   "outputs": [
    {
     "data": {
      "text/plain": [
       "{5, 14, 21, 22, 25}"
      ]
     },
     "execution_count": 8,
     "metadata": {},
     "output_type": "execute_result"
    }
   ],
   "source": [
    "s"
   ]
  },
  {
   "cell_type": "code",
   "execution_count": 9,
   "id": "da841491",
   "metadata": {},
   "outputs": [
    {
     "data": {
      "text/plain": [
       "{2, 12, 33, 54, 123, 543}"
      ]
     },
     "execution_count": 9,
     "metadata": {},
     "output_type": "execute_result"
    }
   ],
   "source": [
    "s={33,2,543,123,54,12}\n",
    "s"
   ]
  },
  {
   "cell_type": "code",
   "execution_count": 10,
   "id": "2e486406",
   "metadata": {},
   "outputs": [],
   "source": [
    "# s[2]  ## index does work with sets\n",
    "\n",
    "\n",
    "\n",
    "# 'set' object is not subscriptable"
   ]
  },
  {
   "cell_type": "code",
   "execution_count": 11,
   "id": "ffb6feea",
   "metadata": {},
   "outputs": [
    {
     "data": {
      "text/plain": [
       "{2, 4, 12, 33, 54, 123, 543}"
      ]
     },
     "execution_count": 11,
     "metadata": {},
     "output_type": "execute_result"
    }
   ],
   "source": [
    "s.add(4)  # adding a new element to the set\n",
    "s"
   ]
  },
  {
   "cell_type": "code",
   "execution_count": 12,
   "id": "f3cd4e16",
   "metadata": {},
   "outputs": [
    {
     "data": {
      "text/plain": [
       "{2, 3, 44, 6, 'abhi'}"
      ]
     },
     "execution_count": 12,
     "metadata": {},
     "output_type": "execute_result"
    }
   ],
   "source": [
    "d={2,3,44,6,'abhi'}\n",
    "d"
   ]
  },
  {
   "cell_type": "code",
   "execution_count": 13,
   "id": "f1d0f45f",
   "metadata": {},
   "outputs": [
    {
     "data": {
      "text/plain": [
       "['abhi', 3, 44, 6]"
      ]
     },
     "execution_count": 13,
     "metadata": {},
     "output_type": "execute_result"
    }
   ],
   "source": [
    "list(d.difference(s))   # taking the difference in the  sets"
   ]
  },
  {
   "cell_type": "code",
   "execution_count": 14,
   "id": "00a28b2a",
   "metadata": {},
   "outputs": [],
   "source": [
    "s=[33,2,543,123,54,12]\n",
    "d=[2,3,44,6,'abhi']"
   ]
  },
  {
   "cell_type": "code",
   "execution_count": null,
   "id": "57520c84",
   "metadata": {},
   "outputs": [],
   "source": []
  }
 ],
 "metadata": {
  "kernelspec": {
   "display_name": "Python 3 (ipykernel)",
   "language": "python",
   "name": "python3"
  },
  "language_info": {
   "codemirror_mode": {
    "name": "ipython",
    "version": 3
   },
   "file_extension": ".py",
   "mimetype": "text/x-python",
   "name": "python",
   "nbconvert_exporter": "python",
   "pygments_lexer": "ipython3",
   "version": "3.9.7"
  }
 },
 "nbformat": 4,
 "nbformat_minor": 5
}
