{
 "cells": [
  {
   "cell_type": "code",
   "execution_count": 1,
   "id": "35fd1518",
   "metadata": {},
   "outputs": [
    {
     "name": "stdout",
     "output_type": "stream",
     "text": [
      "abhishek\n",
      "65\n",
      "8.3\n"
     ]
    }
   ],
   "source": [
    "x=['abhishek',65,8.3]\n",
    "\n",
    "for i in x:\n",
    "    print(i)"
   ]
  },
  {
   "cell_type": "code",
   "execution_count": 2,
   "id": "85ef6caf",
   "metadata": {},
   "outputs": [
    {
     "name": "stdout",
     "output_type": "stream",
     "text": [
      "abhishek\n",
      "65\n",
      "8.3\n"
     ]
    }
   ],
   "source": [
    "for i in ['abhishek',65,8.3]:\n",
    "    print(i)"
   ]
  },
  {
   "cell_type": "code",
   "execution_count": 3,
   "id": "77b25dcf",
   "metadata": {},
   "outputs": [
    {
     "name": "stdout",
     "output_type": "stream",
     "text": [
      "0\n",
      "1\n",
      "2\n",
      "3\n",
      "4\n",
      "5\n",
      "6\n",
      "7\n",
      "8\n",
      "9\n"
     ]
    }
   ],
   "source": [
    "for i in range(10):\n",
    "    print(i)"
   ]
  },
  {
   "cell_type": "code",
   "execution_count": 4,
   "id": "a7ac3a42",
   "metadata": {},
   "outputs": [
    {
     "name": "stdout",
     "output_type": "stream",
     "text": [
      "good\n",
      "boy\n"
     ]
    }
   ],
   "source": [
    "x='good boy'\n",
    "for i in x.split(' '):\n",
    "    print(i)"
   ]
  },
  {
   "cell_type": "code",
   "execution_count": 5,
   "id": "16d44f88",
   "metadata": {},
   "outputs": [
    {
     "name": "stdout",
     "output_type": "stream",
     "text": [
      "11\n",
      "13\n",
      "15\n",
      "17\n",
      "19\n"
     ]
    }
   ],
   "source": [
    "for i in range(11,21,2):                 # (startpt,endingpt,stepsize)\n",
    "    print(i)"
   ]
  },
  {
   "cell_type": "code",
   "execution_count": 6,
   "id": "0906edf0",
   "metadata": {},
   "outputs": [
    {
     "name": "stdout",
     "output_type": "stream",
     "text": [
      "20\n",
      "17\n",
      "14\n",
      "11\n"
     ]
    }
   ],
   "source": [
    "# in reverse order\n",
    "\n",
    "for i in range(20,10,-3):\n",
    "    print(i)"
   ]
  },
  {
   "cell_type": "code",
   "execution_count": 7,
   "id": "34b0a49d",
   "metadata": {},
   "outputs": [],
   "source": [
    "# Want to print numbers which are not divisible by 5"
   ]
  },
  {
   "cell_type": "code",
   "execution_count": 8,
   "id": "6df7e542",
   "metadata": {},
   "outputs": [
    {
     "name": "stdout",
     "output_type": "stream",
     "text": [
      "1\n",
      "2\n",
      "3\n",
      "4\n",
      "6\n",
      "7\n",
      "8\n",
      "9\n",
      "11\n",
      "12\n",
      "13\n",
      "14\n",
      "16\n",
      "17\n",
      "18\n",
      "19\n"
     ]
    }
   ],
   "source": [
    "for i in range(1,21):\n",
    "    if i%5==0:\n",
    "        i+=1\n",
    "    else:\n",
    "        print(i)\n",
    "        i+=1"
   ]
  },
  {
   "cell_type": "code",
   "execution_count": 9,
   "id": "647aaf11",
   "metadata": {},
   "outputs": [],
   "source": [
    "# want numbers from 20 to 10 backward which are not divisble by 3 or 5"
   ]
  },
  {
   "cell_type": "code",
   "execution_count": 10,
   "id": "6ba824d3",
   "metadata": {},
   "outputs": [
    {
     "name": "stdout",
     "output_type": "stream",
     "text": [
      "19\n",
      "17\n",
      "16\n",
      "14\n",
      "13\n"
     ]
    }
   ],
   "source": [
    "for i in range(20,11,-1):\n",
    "    if i%3==0 or i%5==0:\n",
    "        i+=1\n",
    "    else:\n",
    "        print(i)\n",
    "        i+=1"
   ]
  },
  {
   "cell_type": "code",
   "execution_count": 11,
   "id": "0a064425",
   "metadata": {},
   "outputs": [
    {
     "data": {
      "text/plain": [
       "6"
      ]
     },
     "execution_count": 11,
     "metadata": {},
     "output_type": "execute_result"
    }
   ],
   "source": [
    "list=[1,2,3,4,5,6]\n",
    "len(list)"
   ]
  },
  {
   "cell_type": "code",
   "execution_count": 12,
   "id": "4a58e8b3",
   "metadata": {},
   "outputs": [
    {
     "name": "stdout",
     "output_type": "stream",
     "text": [
      "abhishek\n",
      "aditya\n",
      "ajay\n",
      "ritesh\n",
      "astha\n",
      "total number of people are : 5\n"
     ]
    }
   ],
   "source": [
    "ls=['abhishek','aditya','vikas','ajay','ritesh','dhanajaya','sumit','astha',]\n",
    "new=[]\n",
    "for i in ls:\n",
    "    if i.startswith('a') or i.startswith('r'):\n",
    "        print(i)\n",
    "        new.append(i)\n",
    "print('total number of people are :', len(new))"
   ]
  },
  {
   "cell_type": "code",
   "execution_count": 13,
   "id": "95a7f5d5",
   "metadata": {},
   "outputs": [
    {
     "name": "stdout",
     "output_type": "stream",
     "text": [
      "[54, 34, 23]\n"
     ]
    }
   ],
   "source": [
    "data1=[34,54,23,76]\n",
    "data2=[23,34,100,54,63]\n",
    "result_data=[]\n",
    "for i in data2:\n",
    "    if i in data1:\n",
    "        result_data.append(i)\n",
    "print(result_data[::-1])"
   ]
  },
  {
   "cell_type": "code",
   "execution_count": 14,
   "id": "4460dbd1",
   "metadata": {},
   "outputs": [
    {
     "name": "stdout",
     "output_type": "stream",
     "text": [
      "the number divisible by 3 or 7 : [3, 6, 7, 9, 12, 14, 15, 18, 21, 24, 27, 28, 30, 33, 35, 36, 39, 42, 45, 48, 49, 51, 54, 56, 57, 60, 63, 66, 69, 70, 72, 75, 77, 78, 81, 84, 87, 90, 91, 93, 96, 98, 99]\n",
      "the number divisible by 5 : [15, 30, 35, 45, 60, 70, 75, 90]\n"
     ]
    }
   ],
   "source": [
    "lt1=[]\n",
    "lt2=[]\n",
    "for i in range(1,100):\n",
    "    if i%3==0 or i%7==0:\n",
    "        lt1.append(i)\n",
    "        if i%5==0:\n",
    "                lt2.append(i)\n",
    "                i+=1\n",
    "        i+=1\n",
    "    else:\n",
    "        i+=1\n",
    "print('the number divisible by 3 or 7 :',lt1)\n",
    "print('the number divisible by 5 :',lt2)"
   ]
  },
  {
   "cell_type": "code",
   "execution_count": 15,
   "id": "0660012f",
   "metadata": {},
   "outputs": [],
   "source": [
    "# print all the perfect square number between 1 and 500"
   ]
  },
  {
   "cell_type": "code",
   "execution_count": 16,
   "id": "04915f88",
   "metadata": {},
   "outputs": [
    {
     "name": "stdout",
     "output_type": "stream",
     "text": [
      "[1, 4, 9, 16, 25, 36, 49]\n"
     ]
    }
   ],
   "source": [
    "import math\n",
    "lt=[]\n",
    "for i in range(1,51):\n",
    "    root=math.sqrt(i)\n",
    "    if int(root+0.5)**2==i:\n",
    "        lt.append(i)\n",
    "print(lt)"
   ]
  },
  {
   "cell_type": "code",
   "execution_count": 17,
   "id": "ebf44ce0",
   "metadata": {},
   "outputs": [
    {
     "data": {
      "text/plain": [
       "True"
      ]
     },
     "execution_count": 17,
     "metadata": {},
     "output_type": "execute_result"
    }
   ],
   "source": [
    "root=math.sqrt(9)\n",
    "int(root+0.5)**2==9"
   ]
  },
  {
   "cell_type": "code",
   "execution_count": 18,
   "id": "c7f246d6",
   "metadata": {},
   "outputs": [
    {
     "name": "stdout",
     "output_type": "stream",
     "text": [
      "[{100, 76, 63}]\n"
     ]
    }
   ],
   "source": [
    "data1=[34,54,23,76]\n",
    "data2=[23,34,100,54,63]\n",
    "result_data=[]\n",
    "new=set(data1).symmetric_difference(set(data2))\n",
    "result_data.append((new))\n",
    "print(result_data)"
   ]
  },
  {
   "cell_type": "code",
   "execution_count": 19,
   "id": "b43b2c96",
   "metadata": {},
   "outputs": [
    {
     "name": "stdout",
     "output_type": "stream",
     "text": [
      "Ram rocks rocks rocks \n",
      "Ram rocks rocks rocks \n",
      "Ram rocks rocks rocks \n",
      "Ram rocks rocks rocks \n",
      "Ram rocks rocks rocks \n"
     ]
    }
   ],
   "source": [
    "i=1\n",
    "while i<=5:\n",
    "    print('Ram',end=' ')\n",
    "    j=1\n",
    "    while j<=3:\n",
    "        print('rocks',end=' ')\n",
    "        j+=1\n",
    "    i+=1\n",
    "    print()"
   ]
  },
  {
   "cell_type": "code",
   "execution_count": null,
   "id": "8fa1574d",
   "metadata": {},
   "outputs": [],
   "source": []
  }
 ],
 "metadata": {
  "kernelspec": {
   "display_name": "Python 3 (ipykernel)",
   "language": "python",
   "name": "python3"
  },
  "language_info": {
   "codemirror_mode": {
    "name": "ipython",
    "version": 3
   },
   "file_extension": ".py",
   "mimetype": "text/x-python",
   "name": "python",
   "nbconvert_exporter": "python",
   "pygments_lexer": "ipython3",
   "version": "3.9.7"
  }
 },
 "nbformat": 4,
 "nbformat_minor": 5
}
