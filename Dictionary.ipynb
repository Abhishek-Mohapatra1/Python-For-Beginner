{
 "cells": [
  {
   "cell_type": "code",
   "execution_count": 1,
   "id": "da530683",
   "metadata": {},
   "outputs": [],
   "source": [
    "data={1:'abhi',2:'kiran',4:'harsh'}"
   ]
  },
  {
   "cell_type": "code",
   "execution_count": 2,
   "id": "e3530157",
   "metadata": {},
   "outputs": [
    {
     "data": {
      "text/plain": [
       "{1: 'abhi', 2: 'kiran', 4: 'harsh'}"
      ]
     },
     "execution_count": 2,
     "metadata": {},
     "output_type": "execute_result"
    }
   ],
   "source": [
    "data"
   ]
  },
  {
   "cell_type": "code",
   "execution_count": 3,
   "id": "f979a9d2",
   "metadata": {},
   "outputs": [
    {
     "data": {
      "text/plain": [
       "'abhi'"
      ]
     },
     "execution_count": 3,
     "metadata": {},
     "output_type": "execute_result"
    }
   ],
   "source": [
    "data[1]"
   ]
  },
  {
   "cell_type": "code",
   "execution_count": 4,
   "id": "3bf9145d",
   "metadata": {},
   "outputs": [
    {
     "ename": "KeyError",
     "evalue": "3",
     "output_type": "error",
     "traceback": [
      "\u001b[1;31m---------------------------------------------------------------------------\u001b[0m",
      "\u001b[1;31mKeyError\u001b[0m                                  Traceback (most recent call last)",
      "\u001b[1;32m~\\AppData\\Local\\Temp/ipykernel_10456/1968607646.py\u001b[0m in \u001b[0;36m<module>\u001b[1;34m\u001b[0m\n\u001b[1;32m----> 1\u001b[1;33m \u001b[0mdata\u001b[0m\u001b[1;33m[\u001b[0m\u001b[1;36m3\u001b[0m\u001b[1;33m]\u001b[0m  \u001b[1;31m# we dont have any key with '3'\u001b[0m\u001b[1;33m\u001b[0m\u001b[1;33m\u001b[0m\u001b[0m\n\u001b[0m",
      "\u001b[1;31mKeyError\u001b[0m: 3"
     ]
    }
   ],
   "source": [
    "data[3]  # we dont have any key with '3'"
   ]
  },
  {
   "cell_type": "code",
   "execution_count": 5,
   "id": "cc74996a",
   "metadata": {},
   "outputs": [
    {
     "data": {
      "text/plain": [
       "'harsh'"
      ]
     },
     "execution_count": 5,
     "metadata": {},
     "output_type": "execute_result"
    }
   ],
   "source": [
    "data[4]"
   ]
  },
  {
   "cell_type": "code",
   "execution_count": 6,
   "id": "3abbc4d6",
   "metadata": {},
   "outputs": [],
   "source": [
    "data.get(3)  # there is no value for key 3"
   ]
  },
  {
   "cell_type": "code",
   "execution_count": 7,
   "id": "a870f83f",
   "metadata": {},
   "outputs": [
    {
     "name": "stdout",
     "output_type": "stream",
     "text": [
      "None\n"
     ]
    }
   ],
   "source": [
    "print(data.get(3))"
   ]
  },
  {
   "cell_type": "code",
   "execution_count": 8,
   "id": "240a6b39",
   "metadata": {},
   "outputs": [
    {
     "data": {
      "text/plain": [
       "'abhi'"
      ]
     },
     "execution_count": 8,
     "metadata": {},
     "output_type": "execute_result"
    }
   ],
   "source": [
    "data.get(1,'Not found')"
   ]
  },
  {
   "cell_type": "code",
   "execution_count": 9,
   "id": "5ea5c557",
   "metadata": {},
   "outputs": [
    {
     "data": {
      "text/plain": [
       "'Not found'"
      ]
     },
     "execution_count": 9,
     "metadata": {},
     "output_type": "execute_result"
    }
   ],
   "source": [
    "data.get(3,'Not found') # Since there is not key as 3 so it gives value as \"not found\""
   ]
  },
  {
   "cell_type": "code",
   "execution_count": 10,
   "id": "8ed26972",
   "metadata": {},
   "outputs": [],
   "source": [
    "keys=['navin','kiran','harsh']"
   ]
  },
  {
   "cell_type": "code",
   "execution_count": 11,
   "id": "d99c2633",
   "metadata": {},
   "outputs": [],
   "source": [
    "values=['python','java','js']"
   ]
  },
  {
   "cell_type": "code",
   "execution_count": 12,
   "id": "62f61cf3",
   "metadata": {},
   "outputs": [],
   "source": [
    "data=dict(zip(keys,values))"
   ]
  },
  {
   "cell_type": "code",
   "execution_count": 13,
   "id": "b6c81061",
   "metadata": {},
   "outputs": [
    {
     "data": {
      "text/plain": [
       "{'navin': 'python', 'kiran': 'java', 'harsh': 'js'}"
      ]
     },
     "execution_count": 13,
     "metadata": {},
     "output_type": "execute_result"
    }
   ],
   "source": [
    "data"
   ]
  },
  {
   "cell_type": "code",
   "execution_count": 14,
   "id": "dfd548d3",
   "metadata": {},
   "outputs": [
    {
     "data": {
      "text/plain": [
       "'java'"
      ]
     },
     "execution_count": 14,
     "metadata": {},
     "output_type": "execute_result"
    }
   ],
   "source": [
    "data['kiran']"
   ]
  },
  {
   "cell_type": "code",
   "execution_count": 15,
   "id": "7960570c",
   "metadata": {},
   "outputs": [
    {
     "data": {
      "text/plain": [
       "{'navin': 'python', 'kiran': 'java', 'harsh': 'js'}"
      ]
     },
     "execution_count": 15,
     "metadata": {},
     "output_type": "execute_result"
    }
   ],
   "source": [
    "data"
   ]
  },
  {
   "cell_type": "code",
   "execution_count": 16,
   "id": "f99b735a",
   "metadata": {},
   "outputs": [],
   "source": [
    "del data['harsh']"
   ]
  },
  {
   "cell_type": "code",
   "execution_count": 17,
   "id": "8c986cd1",
   "metadata": {},
   "outputs": [
    {
     "data": {
      "text/plain": [
       "{'navin': 'python', 'kiran': 'java'}"
      ]
     },
     "execution_count": 17,
     "metadata": {},
     "output_type": "execute_result"
    }
   ],
   "source": [
    "data"
   ]
  },
  {
   "cell_type": "code",
   "execution_count": 18,
   "id": "e3bcfd31",
   "metadata": {},
   "outputs": [],
   "source": [
    "data['kiran']=[23,4,5]"
   ]
  },
  {
   "cell_type": "code",
   "execution_count": 19,
   "id": "f988aa78",
   "metadata": {},
   "outputs": [
    {
     "data": {
      "text/plain": [
       "{'navin': 'python', 'kiran': [23, 4, 5]}"
      ]
     },
     "execution_count": 19,
     "metadata": {},
     "output_type": "execute_result"
    }
   ],
   "source": [
    "data"
   ]
  },
  {
   "cell_type": "code",
   "execution_count": 20,
   "id": "8da2f157",
   "metadata": {},
   "outputs": [
    {
     "data": {
      "text/plain": [
       "[23, 4, 5]"
      ]
     },
     "execution_count": 20,
     "metadata": {},
     "output_type": "execute_result"
    }
   ],
   "source": [
    "data.get('kiran')"
   ]
  },
  {
   "cell_type": "code",
   "execution_count": 21,
   "id": "0eb52a53",
   "metadata": {},
   "outputs": [],
   "source": [
    "prg=['JS','CS','Python','java']\n",
    "tools=['Atom','VS',['Pycharm','sublime'],[]]"
   ]
  },
  {
   "cell_type": "code",
   "execution_count": 22,
   "id": "8d00d0f2",
   "metadata": {},
   "outputs": [],
   "source": [
    "prg={'js':'atom','cs':'VS','python':['pycharm','sublime'],'java':{'jse':'netbeans','jee':'eclipse'}}"
   ]
  },
  {
   "cell_type": "code",
   "execution_count": 23,
   "id": "6b791bd4",
   "metadata": {},
   "outputs": [
    {
     "data": {
      "text/plain": [
       "{'js': 'atom',\n",
       " 'cs': 'VS',\n",
       " 'python': ['pycharm', 'sublime'],\n",
       " 'java': {'jse': 'netbeans', 'jee': 'eclipse'}}"
      ]
     },
     "execution_count": 23,
     "metadata": {},
     "output_type": "execute_result"
    }
   ],
   "source": [
    "prg"
   ]
  },
  {
   "cell_type": "code",
   "execution_count": 24,
   "id": "71b05f49",
   "metadata": {},
   "outputs": [
    {
     "data": {
      "text/plain": [
       "'atom'"
      ]
     },
     "execution_count": 24,
     "metadata": {},
     "output_type": "execute_result"
    }
   ],
   "source": [
    "prg['js']"
   ]
  },
  {
   "cell_type": "code",
   "execution_count": 25,
   "id": "76227298",
   "metadata": {},
   "outputs": [
    {
     "data": {
      "text/plain": [
       "'sublime'"
      ]
     },
     "execution_count": 25,
     "metadata": {},
     "output_type": "execute_result"
    }
   ],
   "source": [
    "prg['python'][1]"
   ]
  },
  {
   "cell_type": "code",
   "execution_count": 26,
   "id": "3a757443",
   "metadata": {},
   "outputs": [
    {
     "data": {
      "text/plain": [
       "'eclipse'"
      ]
     },
     "execution_count": 26,
     "metadata": {},
     "output_type": "execute_result"
    }
   ],
   "source": [
    "prg['java']['jee']"
   ]
  },
  {
   "cell_type": "code",
   "execution_count": 27,
   "id": "44a4e190",
   "metadata": {},
   "outputs": [
    {
     "name": "stdout",
     "output_type": "stream",
     "text": [
      "Mapping Types — \"dict\"\n",
      "**********************\n",
      "\n",
      "A *mapping* object maps *hashable* values to arbitrary objects.\n",
      "Mappings are mutable objects.  There is currently only one standard\n",
      "mapping type, the *dictionary*.  (For other containers see the built-\n",
      "in \"list\", \"set\", and \"tuple\" classes, and the \"collections\" module.)\n",
      "\n",
      "A dictionary’s keys are *almost* arbitrary values.  Values that are\n",
      "not *hashable*, that is, values containing lists, dictionaries or\n",
      "other mutable types (that are compared by value rather than by object\n",
      "identity) may not be used as keys.  Numeric types used for keys obey\n",
      "the normal rules for numeric comparison: if two numbers compare equal\n",
      "(such as \"1\" and \"1.0\") then they can be used interchangeably to index\n",
      "the same dictionary entry.  (Note however, that since computers store\n",
      "floating-point numbers as approximations it is usually unwise to use\n",
      "them as dictionary keys.)\n",
      "\n",
      "Dictionaries can be created by placing a comma-separated list of \"key:\n",
      "value\" pairs within braces, for example: \"{'jack': 4098, 'sjoerd':\n",
      "4127}\" or \"{4098: 'jack', 4127: 'sjoerd'}\", or by the \"dict\"\n",
      "constructor.\n",
      "\n",
      "class dict(**kwarg)\n",
      "class dict(mapping, **kwarg)\n",
      "class dict(iterable, **kwarg)\n",
      "\n",
      "   Return a new dictionary initialized from an optional positional\n",
      "   argument and a possibly empty set of keyword arguments.\n",
      "\n",
      "   Dictionaries can be created by several means:\n",
      "\n",
      "   * Use a comma-separated list of \"key: value\" pairs within braces:\n",
      "     \"{'jack': 4098, 'sjoerd': 4127}\" or \"{4098: 'jack', 4127:\n",
      "     'sjoerd'}\"\n",
      "\n",
      "   * Use a dict comprehension: \"{}\", \"{x: x ** 2 for x in range(10)}\"\n",
      "\n",
      "   * Use the type constructor: \"dict()\", \"dict([('foo', 100), ('bar',\n",
      "     200)])\", \"dict(foo=100, bar=200)\"\n",
      "\n",
      "   If no positional argument is given, an empty dictionary is created.\n",
      "   If a positional argument is given and it is a mapping object, a\n",
      "   dictionary is created with the same key-value pairs as the mapping\n",
      "   object.  Otherwise, the positional argument must be an *iterable*\n",
      "   object.  Each item in the iterable must itself be an iterable with\n",
      "   exactly two objects.  The first object of each item becomes a key\n",
      "   in the new dictionary, and the second object the corresponding\n",
      "   value.  If a key occurs more than once, the last value for that key\n",
      "   becomes the corresponding value in the new dictionary.\n",
      "\n",
      "   If keyword arguments are given, the keyword arguments and their\n",
      "   values are added to the dictionary created from the positional\n",
      "   argument.  If a key being added is already present, the value from\n",
      "   the keyword argument replaces the value from the positional\n",
      "   argument.\n",
      "\n",
      "   To illustrate, the following examples all return a dictionary equal\n",
      "   to \"{\"one\": 1, \"two\": 2, \"three\": 3}\":\n",
      "\n",
      "      >>> a = dict(one=1, two=2, three=3)\n",
      "      >>> b = {'one': 1, 'two': 2, 'three': 3}\n",
      "      >>> c = dict(zip(['one', 'two', 'three'], [1, 2, 3]))\n",
      "      >>> d = dict([('two', 2), ('one', 1), ('three', 3)])\n",
      "      >>> e = dict({'three': 3, 'one': 1, 'two': 2})\n",
      "      >>> f = dict({'one': 1, 'three': 3}, two=2)\n",
      "      >>> a == b == c == d == e == f\n",
      "      True\n",
      "\n",
      "   Providing keyword arguments as in the first example only works for\n",
      "   keys that are valid Python identifiers.  Otherwise, any valid keys\n",
      "   can be used.\n",
      "\n",
      "   These are the operations that dictionaries support (and therefore,\n",
      "   custom mapping types should support too):\n",
      "\n",
      "   list(d)\n",
      "\n",
      "      Return a list of all the keys used in the dictionary *d*.\n",
      "\n",
      "   len(d)\n",
      "\n",
      "      Return the number of items in the dictionary *d*.\n",
      "\n",
      "   d[key]\n",
      "\n",
      "      Return the item of *d* with key *key*.  Raises a \"KeyError\" if\n",
      "      *key* is not in the map.\n",
      "\n",
      "      If a subclass of dict defines a method \"__missing__()\" and *key*\n",
      "      is not present, the \"d[key]\" operation calls that method with\n",
      "      the key *key* as argument.  The \"d[key]\" operation then returns\n",
      "      or raises whatever is returned or raised by the\n",
      "      \"__missing__(key)\" call. No other operations or methods invoke\n",
      "      \"__missing__()\". If \"__missing__()\" is not defined, \"KeyError\"\n",
      "      is raised. \"__missing__()\" must be a method; it cannot be an\n",
      "      instance variable:\n",
      "\n",
      "         >>> class Counter(dict):\n",
      "         ...     def __missing__(self, key):\n",
      "         ...         return 0\n",
      "         >>> c = Counter()\n",
      "         >>> c['red']\n",
      "         0\n",
      "         >>> c['red'] += 1\n",
      "         >>> c['red']\n",
      "         1\n",
      "\n",
      "      The example above shows part of the implementation of\n",
      "      \"collections.Counter\".  A different \"__missing__\" method is used\n",
      "      by \"collections.defaultdict\".\n",
      "\n",
      "   d[key] = value\n",
      "\n",
      "      Set \"d[key]\" to *value*.\n",
      "\n",
      "   del d[key]\n",
      "\n",
      "      Remove \"d[key]\" from *d*.  Raises a \"KeyError\" if *key* is not\n",
      "      in the map.\n",
      "\n",
      "   key in d\n",
      "\n",
      "      Return \"True\" if *d* has a key *key*, else \"False\".\n",
      "\n",
      "   key not in d\n",
      "\n",
      "      Equivalent to \"not key in d\".\n",
      "\n",
      "   iter(d)\n",
      "\n",
      "      Return an iterator over the keys of the dictionary.  This is a\n",
      "      shortcut for \"iter(d.keys())\".\n",
      "\n",
      "   clear()\n",
      "\n",
      "      Remove all items from the dictionary.\n",
      "\n",
      "   copy()\n",
      "\n",
      "      Return a shallow copy of the dictionary.\n",
      "\n",
      "   classmethod fromkeys(iterable[, value])\n",
      "\n",
      "      Create a new dictionary with keys from *iterable* and values set\n",
      "      to *value*.\n",
      "\n",
      "      \"fromkeys()\" is a class method that returns a new dictionary.\n",
      "      *value* defaults to \"None\".  All of the values refer to just a\n",
      "      single instance, so it generally doesn’t make sense for *value*\n",
      "      to be a mutable object such as an empty list.  To get distinct\n",
      "      values, use a dict comprehension instead.\n",
      "\n",
      "   get(key[, default])\n",
      "\n",
      "      Return the value for *key* if *key* is in the dictionary, else\n",
      "      *default*. If *default* is not given, it defaults to \"None\", so\n",
      "      that this method never raises a \"KeyError\".\n",
      "\n",
      "   items()\n",
      "\n",
      "      Return a new view of the dictionary’s items (\"(key, value)\"\n",
      "      pairs). See the documentation of view objects.\n",
      "\n",
      "   keys()\n",
      "\n",
      "      Return a new view of the dictionary’s keys.  See the\n",
      "      documentation of view objects.\n",
      "\n",
      "   pop(key[, default])\n",
      "\n",
      "      If *key* is in the dictionary, remove it and return its value,\n",
      "      else return *default*.  If *default* is not given and *key* is\n",
      "      not in the dictionary, a \"KeyError\" is raised.\n",
      "\n",
      "   popitem()\n",
      "\n",
      "      Remove and return a \"(key, value)\" pair from the dictionary.\n",
      "      Pairs are returned in LIFO (last-in, first-out) order.\n",
      "\n",
      "      \"popitem()\" is useful to destructively iterate over a\n",
      "      dictionary, as often used in set algorithms.  If the dictionary\n",
      "      is empty, calling \"popitem()\" raises a \"KeyError\".\n",
      "\n",
      "      Changed in version 3.7: LIFO order is now guaranteed. In prior\n",
      "      versions, \"popitem()\" would return an arbitrary key/value pair.\n",
      "\n",
      "   reversed(d)\n",
      "\n",
      "      Return a reverse iterator over the keys of the dictionary. This\n",
      "      is a shortcut for \"reversed(d.keys())\".\n",
      "\n",
      "      New in version 3.8.\n",
      "\n",
      "   setdefault(key[, default])\n",
      "\n",
      "      If *key* is in the dictionary, return its value.  If not, insert\n",
      "      *key* with a value of *default* and return *default*.  *default*\n",
      "      defaults to \"None\".\n",
      "\n",
      "   update([other])\n",
      "\n",
      "      Update the dictionary with the key/value pairs from *other*,\n",
      "      overwriting existing keys.  Return \"None\".\n",
      "\n",
      "      \"update()\" accepts either another dictionary object or an\n",
      "      iterable of key/value pairs (as tuples or other iterables of\n",
      "      length two).  If keyword arguments are specified, the dictionary\n",
      "      is then updated with those key/value pairs: \"d.update(red=1,\n",
      "      blue=2)\".\n",
      "\n",
      "   values()\n",
      "\n",
      "      Return a new view of the dictionary’s values.  See the\n",
      "      documentation of view objects.\n",
      "\n",
      "      An equality comparison between one \"dict.values()\" view and\n",
      "      another will always return \"False\". This also applies when\n",
      "      comparing \"dict.values()\" to itself:\n",
      "\n",
      "         >>> d = {'a': 1}\n",
      "         >>> d.values() == d.values()\n",
      "         False\n",
      "\n",
      "   d | other\n",
      "\n",
      "      Create a new dictionary with the merged keys and values of *d*\n",
      "      and *other*, which must both be dictionaries. The values of\n",
      "      *other* take priority when *d* and *other* share keys.\n",
      "\n",
      "      New in version 3.9.\n",
      "\n",
      "   d |= other\n",
      "\n",
      "      Update the dictionary *d* with keys and values from *other*,\n",
      "      which may be either a *mapping* or an *iterable* of key/value\n",
      "      pairs. The values of *other* take priority when *d* and *other*\n",
      "      share keys.\n",
      "\n",
      "      New in version 3.9.\n",
      "\n",
      "   Dictionaries compare equal if and only if they have the same \"(key,\n",
      "   value)\" pairs (regardless of ordering). Order comparisons (‘<’,\n",
      "   ‘<=’, ‘>=’, ‘>’) raise \"TypeError\".\n",
      "\n",
      "   Dictionaries preserve insertion order.  Note that updating a key\n",
      "   does not affect the order.  Keys added after deletion are inserted\n",
      "   at the end.\n",
      "\n",
      "      >>> d = {\"one\": 1, \"two\": 2, \"three\": 3, \"four\": 4}\n",
      "      >>> d\n",
      "      {'one': 1, 'two': 2, 'three': 3, 'four': 4}\n",
      "      >>> list(d)\n",
      "      ['one', 'two', 'three', 'four']\n",
      "      >>> list(d.values())\n",
      "      [1, 2, 3, 4]\n",
      "      >>> d[\"one\"] = 42\n",
      "      >>> d\n",
      "      {'one': 42, 'two': 2, 'three': 3, 'four': 4}\n",
      "      >>> del d[\"two\"]\n",
      "      >>> d[\"two\"] = None\n",
      "      >>> d\n",
      "      {'one': 42, 'three': 3, 'four': 4, 'two': None}\n",
      "\n",
      "   Changed in version 3.7: Dictionary order is guaranteed to be\n",
      "   insertion order.  This behavior was an implementation detail of\n",
      "   CPython from 3.6.\n",
      "\n",
      "   Dictionaries and dictionary views are reversible.\n",
      "\n",
      "      >>> d = {\"one\": 1, \"two\": 2, \"three\": 3, \"four\": 4}\n",
      "      >>> d\n",
      "      {'one': 1, 'two': 2, 'three': 3, 'four': 4}\n",
      "      >>> list(reversed(d))\n",
      "      ['four', 'three', 'two', 'one']\n",
      "      >>> list(reversed(d.values()))\n",
      "      [4, 3, 2, 1]\n",
      "      >>> list(reversed(d.items()))\n",
      "      [('four', 4), ('three', 3), ('two', 2), ('one', 1)]\n",
      "\n",
      "   Changed in version 3.8: Dictionaries are now reversible.\n",
      "\n",
      "See also:\n",
      "\n",
      "  \"types.MappingProxyType\" can be used to create a read-only view of a\n",
      "  \"dict\".\n",
      "\n",
      "\n",
      "Dictionary view objects\n",
      "=======================\n",
      "\n",
      "The objects returned by \"dict.keys()\", \"dict.values()\" and\n",
      "\"dict.items()\" are *view objects*.  They provide a dynamic view on the\n",
      "dictionary’s entries, which means that when the dictionary changes,\n",
      "the view reflects these changes.\n",
      "\n",
      "Dictionary views can be iterated over to yield their respective data,\n",
      "and support membership tests:\n",
      "\n",
      "len(dictview)\n",
      "\n",
      "   Return the number of entries in the dictionary.\n",
      "\n",
      "iter(dictview)\n",
      "\n",
      "   Return an iterator over the keys, values or items (represented as\n",
      "   tuples of \"(key, value)\") in the dictionary.\n",
      "\n",
      "   Keys and values are iterated over in insertion order. This allows\n",
      "   the creation of \"(value, key)\" pairs using \"zip()\": \"pairs =\n",
      "   zip(d.values(), d.keys())\".  Another way to create the same list is\n",
      "   \"pairs = [(v, k) for (k, v) in d.items()]\".\n",
      "\n",
      "   Iterating views while adding or deleting entries in the dictionary\n",
      "   may raise a \"RuntimeError\" or fail to iterate over all entries.\n",
      "\n",
      "   Changed in version 3.7: Dictionary order is guaranteed to be\n",
      "   insertion order.\n",
      "\n",
      "x in dictview\n",
      "\n",
      "   Return \"True\" if *x* is in the underlying dictionary’s keys, values\n",
      "   or items (in the latter case, *x* should be a \"(key, value)\"\n",
      "   tuple).\n",
      "\n",
      "reversed(dictview)\n",
      "\n",
      "   Return a reverse iterator over the keys, values or items of the\n",
      "   dictionary. The view will be iterated in reverse order of the\n",
      "   insertion.\n",
      "\n",
      "   Changed in version 3.8: Dictionary views are now reversible.\n",
      "\n",
      "Keys views are set-like since their entries are unique and hashable.\n",
      "If all values are hashable, so that \"(key, value)\" pairs are unique\n",
      "and hashable, then the items view is also set-like.  (Values views are\n",
      "not treated as set-like since the entries are generally not unique.)\n",
      "For set-like views, all of the operations defined for the abstract\n",
      "base class \"collections.abc.Set\" are available (for example, \"==\",\n",
      "\"<\", or \"^\").\n",
      "\n",
      "An example of dictionary view usage:\n",
      "\n",
      "   >>> dishes = {'eggs': 2, 'sausage': 1, 'bacon': 1, 'spam': 500}\n",
      "   >>> keys = dishes.keys()\n",
      "   >>> values = dishes.values()\n",
      "\n",
      "   >>> # iteration\n",
      "   >>> n = 0\n",
      "   >>> for val in values:\n",
      "   ...     n += val\n",
      "   >>> print(n)\n",
      "   504\n",
      "\n",
      "   >>> # keys and values are iterated over in the same order (insertion order)\n",
      "   >>> list(keys)\n",
      "   ['eggs', 'sausage', 'bacon', 'spam']\n",
      "   >>> list(values)\n",
      "   [2, 1, 1, 500]\n",
      "\n",
      "   >>> # view objects are dynamic and reflect dict changes\n",
      "   >>> del dishes['eggs']\n",
      "   >>> del dishes['sausage']\n",
      "   >>> list(keys)\n",
      "   ['bacon', 'spam']\n",
      "\n",
      "   >>> # set operations\n",
      "   >>> keys & {'eggs', 'bacon', 'salad'}\n",
      "   {'bacon'}\n",
      "   >>> keys ^ {'sausage', 'juice'}\n",
      "   {'juice', 'sausage', 'bacon', 'spam'}\n",
      "\n",
      "Related help topics: DICTIONARYLITERALS\n",
      "\n"
     ]
    }
   ],
   "source": [
    "help('DICTIONARIES')"
   ]
  },
  {
   "cell_type": "code",
   "execution_count": null,
   "id": "1ae341bf",
   "metadata": {},
   "outputs": [],
   "source": []
  }
 ],
 "metadata": {
  "kernelspec": {
   "display_name": "Python 3 (ipykernel)",
   "language": "python",
   "name": "python3"
  },
  "language_info": {
   "codemirror_mode": {
    "name": "ipython",
    "version": 3
   },
   "file_extension": ".py",
   "mimetype": "text/x-python",
   "name": "python",
   "nbconvert_exporter": "python",
   "pygments_lexer": "ipython3",
   "version": "3.9.7"
  }
 },
 "nbformat": 4,
 "nbformat_minor": 5
}
