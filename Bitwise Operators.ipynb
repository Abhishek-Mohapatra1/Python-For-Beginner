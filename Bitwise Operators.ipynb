{
 "cells": [
  {
   "cell_type": "code",
   "execution_count": 1,
   "id": "9705e2f6",
   "metadata": {},
   "outputs": [],
   "source": [
    "# complement (~)\n",
    "# And (&)\n",
    "# Or (|)\n",
    "# XOR (^)\n",
    "# left shift (<<)\n",
    "# right shift (>>)"
   ]
  },
  {
   "cell_type": "markdown",
   "id": "d65e2916",
   "metadata": {},
   "source": [
    "# complement (~) - tilde"
   ]
  },
  {
   "cell_type": "code",
   "execution_count": 2,
   "id": "c69ae63c",
   "metadata": {},
   "outputs": [
    {
     "data": {
      "text/plain": [
       "-13"
      ]
     },
     "execution_count": 2,
     "metadata": {},
     "output_type": "execute_result"
    }
   ],
   "source": [
    "~12"
   ]
  },
  {
   "cell_type": "code",
   "execution_count": 3,
   "id": "aea0d5e7",
   "metadata": {},
   "outputs": [
    {
     "name": "stdout",
     "output_type": "stream",
     "text": [
      "12\n",
      "-13\n"
     ]
    }
   ],
   "source": [
    "print(0b00001100)\n",
    "\n",
    "print(~0b00001100)"
   ]
  },
  {
   "cell_type": "code",
   "execution_count": 4,
   "id": "edaf8647",
   "metadata": {},
   "outputs": [],
   "source": [
    "# binary format of 12 to get the compliment of 12 (~12)\n",
    "\n",
    "# 2 | 12 -> 0\n",
    "# 2 | 6  -> 0\n",
    "# 2 | 3  -> 1\n",
    "# 2 | 1  -> 1\n",
    "\n",
    "# binary format is in reverse order from bottom to top  i.e, \"1100\"\n",
    "\n",
    "# i.e,  1 1 0 0  -> 12\n",
    "#      _________          [note: ~ is reverse of 1100]\n",
    "#       0 0 1 1  -> ~12\n",
    "      \n",
    "# binary format of 13 to get the compliment of -13 (~-13) if it is equal to \"12\"\n",
    "\n",
    "# 2 | 13 -> 1\n",
    "# 2 | 6  -> 0\n",
    "# 2 | 3  -> 1\n",
    "# 2 | 1  -> 1\n",
    "\n",
    "# binary format is in reverse order from bottom to top  i.e, \"1101\"\n",
    "\n",
    "# i.e,  1 1 0 1  -> 13        \n",
    "#       0 0 1 0  -> ~13          [Note: To convert -ve number to +ve we use 2's Compliment to store in the system i.e, \n",
    "#       +     1                                                                                 2's comp = 1's comp +1]\n",
    "#     ___________                   \n",
    "#       0 0 1 1  -> -13\n",
    "      \n",
    "# hence, ~12 = ~-13"
   ]
  },
  {
   "cell_type": "code",
   "execution_count": 5,
   "id": "2dd7399a",
   "metadata": {},
   "outputs": [
    {
     "name": "stdout",
     "output_type": "stream",
     "text": [
      "Enter your Number:123\n",
      "After Complement: -124\n"
     ]
    }
   ],
   "source": [
    "num=int(input(\"Enter your Number:\"))\n",
    "print(\"After Complement: {}\".format(~num))"
   ]
  },
  {
   "cell_type": "code",
   "execution_count": 6,
   "id": "55266f1a",
   "metadata": {},
   "outputs": [
    {
     "data": {
      "text/plain": [
       "-16"
      ]
     },
     "execution_count": 6,
     "metadata": {},
     "output_type": "execute_result"
    }
   ],
   "source": [
    "~15"
   ]
  },
  {
   "cell_type": "code",
   "execution_count": 7,
   "id": "803f44d6",
   "metadata": {},
   "outputs": [
    {
     "data": {
      "text/plain": [
       "15"
      ]
     },
     "execution_count": 7,
     "metadata": {},
     "output_type": "execute_result"
    }
   ],
   "source": [
    "0b1111"
   ]
  },
  {
   "cell_type": "code",
   "execution_count": 8,
   "id": "b5d0b3f6",
   "metadata": {},
   "outputs": [],
   "source": [
    "# binary format of 12 to get the compliment of 15 (~15)\n",
    "\n",
    "# 2 | 15 -> 1\n",
    "# 2 | 7  -> 1\n",
    "# 2 | 3  -> 1\n",
    "# 2 | 1  -> 1\n",
    "\n",
    "# binary format is in reverse order from bottom to top  i.e, \"1111\"\n",
    "\n",
    "# i.e,  1 1 1 1  -> 15\n",
    "#      _________          [note: ~ is reverse of 1111]\n",
    "#       0 0 0 0  -> ~15\n",
    "      \n",
    "# binary format of 16 to get the compliment of -16 (~-16) if it is equal to \"15\"\n",
    "\n",
    "# 2 | 16 -> 0\n",
    "# 2 | 7  -> 1\n",
    "# 2 | 3  -> 1\n",
    "# 2 | 1  -> 1\n",
    "\n",
    "# binary format is in reverse order from bottom to top  i.e, \"1110\"\n",
    "\n",
    "# i.e,  1 1 1 0  -> 16        \n",
    "#       0 0 0 1  -> ~16          [Note: To convert -ve number to +ve we use 2's Compliment to store in the system i.e, \n",
    "#       +     1                                                                                 2's comp = 1's comp +1]\n",
    "#     ___________                   \n",
    "#       0 0 0 0  ->-16\n",
    "      \n",
    "# hence, ~15 = ~-16"
   ]
  },
  {
   "cell_type": "code",
   "execution_count": 9,
   "id": "84d741f1",
   "metadata": {},
   "outputs": [
    {
     "data": {
      "text/plain": [
       "-1124"
      ]
     },
     "execution_count": 9,
     "metadata": {},
     "output_type": "execute_result"
    }
   ],
   "source": [
    "~1123"
   ]
  },
  {
   "cell_type": "code",
   "execution_count": 10,
   "id": "1daad3b0",
   "metadata": {},
   "outputs": [
    {
     "data": {
      "text/plain": [
       "76"
      ]
     },
     "execution_count": 10,
     "metadata": {},
     "output_type": "execute_result"
    }
   ],
   "source": [
    "0b1001100"
   ]
  },
  {
   "cell_type": "code",
   "execution_count": 11,
   "id": "cdc26632",
   "metadata": {},
   "outputs": [
    {
     "data": {
      "text/plain": [
       "True"
      ]
     },
     "execution_count": 11,
     "metadata": {},
     "output_type": "execute_result"
    }
   ],
   "source": [
    "~76==-77"
   ]
  },
  {
   "cell_type": "code",
   "execution_count": 12,
   "id": "fe0afa8e",
   "metadata": {},
   "outputs": [
    {
     "data": {
      "text/plain": [
       "True"
      ]
     },
     "execution_count": 12,
     "metadata": {},
     "output_type": "execute_result"
    }
   ],
   "source": [
    "-12388==~12387"
   ]
  },
  {
   "cell_type": "code",
   "execution_count": 13,
   "id": "4f47cc68",
   "metadata": {},
   "outputs": [],
   "source": [
    "# if u notice one thing that the ~ of any number is = -ve (+1) of that same number"
   ]
  },
  {
   "cell_type": "markdown",
   "id": "9c938ae7",
   "metadata": {},
   "source": [
    "# And (&)"
   ]
  },
  {
   "cell_type": "code",
   "execution_count": 14,
   "id": "2a9d6ad1",
   "metadata": {},
   "outputs": [],
   "source": [
    "# Here in bitwise we use \"&\" as the operator but not \"and\" like in logical operator"
   ]
  },
  {
   "cell_type": "code",
   "execution_count": 15,
   "id": "1e92a240",
   "metadata": {},
   "outputs": [
    {
     "data": {
      "text/plain": [
       "12"
      ]
     },
     "execution_count": 15,
     "metadata": {},
     "output_type": "execute_result"
    }
   ],
   "source": [
    "12&13"
   ]
  },
  {
   "cell_type": "code",
   "execution_count": 16,
   "id": "a047185a",
   "metadata": {},
   "outputs": [],
   "source": [
    "# (All are to be \"True\" then its \"true\")\n",
    "\n",
    "# 12 =         1 1 0 0\n",
    "# 13 =         1 1 0 1\n",
    "# &  =        _________\n",
    "#              1 1 0 0  =  12\n",
    "             \n",
    "# hence 12 & 13 = 12"
   ]
  },
  {
   "cell_type": "code",
   "execution_count": 17,
   "id": "368dcad4",
   "metadata": {},
   "outputs": [
    {
     "data": {
      "text/plain": [
       "12"
      ]
     },
     "execution_count": 17,
     "metadata": {},
     "output_type": "execute_result"
    }
   ],
   "source": [
    "12&13&14"
   ]
  },
  {
   "cell_type": "code",
   "execution_count": 18,
   "id": "866b5931",
   "metadata": {},
   "outputs": [],
   "source": [
    "# 12 =         1 1 0 0\n",
    "# 13 =         1 1 0 1\n",
    "# 14 =         1 1 1 0\n",
    "# &  =        _________\n",
    "#              1 1 0 0  =  12\n",
    "             \n",
    "# hence 12 & 13 & 14 = 12"
   ]
  },
  {
   "cell_type": "markdown",
   "id": "38cd4421",
   "metadata": {},
   "source": [
    "# Or (|)"
   ]
  },
  {
   "cell_type": "code",
   "execution_count": 19,
   "id": "d1eeb183",
   "metadata": {},
   "outputs": [
    {
     "data": {
      "text/plain": [
       "31"
      ]
     },
     "execution_count": 19,
     "metadata": {},
     "output_type": "execute_result"
    }
   ],
   "source": [
    "12 | 13 | 18"
   ]
  },
  {
   "cell_type": "code",
   "execution_count": 20,
   "id": "fae591e4",
   "metadata": {},
   "outputs": [
    {
     "data": {
      "text/plain": [
       "'0b10010'"
      ]
     },
     "execution_count": 20,
     "metadata": {},
     "output_type": "execute_result"
    }
   ],
   "source": [
    "bin(18)"
   ]
  },
  {
   "cell_type": "code",
   "execution_count": 21,
   "id": "70a9bdff",
   "metadata": {},
   "outputs": [],
   "source": [
    "# ( If any one is \"True\" then its \"true\")\n",
    "\n",
    "# 12 =        0 1 1 0 0\n",
    "# 13 =        0 1 1 0 1\n",
    "# 18 =        1 0 0 1 0\n",
    "# &  =        _________\n",
    "#             1 1 1 1 1   =  31\n",
    "             \n",
    "# hence 12 | 13 | 18 = 31"
   ]
  },
  {
   "cell_type": "code",
   "execution_count": 22,
   "id": "c63959ad",
   "metadata": {},
   "outputs": [
    {
     "data": {
      "text/plain": [
       "13"
      ]
     },
     "execution_count": 22,
     "metadata": {},
     "output_type": "execute_result"
    }
   ],
   "source": [
    "0b01101"
   ]
  },
  {
   "cell_type": "markdown",
   "id": "a07b386b",
   "metadata": {},
   "source": [
    "# XOR (^)"
   ]
  },
  {
   "cell_type": "code",
   "execution_count": 23,
   "id": "dc8fbacc",
   "metadata": {},
   "outputs": [],
   "source": [
    "# If both the numbers are same, for example both are true then = 0 or both are false then = 0,\n",
    "# Only if they are diff then = 1\n",
    "\n",
    "# 0 0 -> 0\n",
    "# 0 1 -> 1\n",
    "# 1 0 -> 1 \n",
    "# 1 1 -> 0"
   ]
  },
  {
   "cell_type": "code",
   "execution_count": 24,
   "id": "0f22946c",
   "metadata": {},
   "outputs": [
    {
     "data": {
      "text/plain": [
       "441"
      ]
     },
     "execution_count": 24,
     "metadata": {},
     "output_type": "execute_result"
    }
   ],
   "source": [
    "154 ^ 291"
   ]
  },
  {
   "cell_type": "code",
   "execution_count": 25,
   "id": "94934b91",
   "metadata": {},
   "outputs": [],
   "source": [
    "# ( If any one is \"True\" then its \"true\")\n",
    "\n",
    "# 154 =        0 1 0 0 1 1 0 1 0\n",
    "# 291 =        1 0 0 1 0 0 0 1 1\n",
    "# XOR =       ___________________\n",
    "#              1 1 0 1 1 1 0 0 1  =  441\n",
    "             \n",
    "# hence 154 ^ 291 = 441"
   ]
  },
  {
   "cell_type": "code",
   "execution_count": 26,
   "id": "bb108f80",
   "metadata": {},
   "outputs": [
    {
     "data": {
      "text/plain": [
       "1"
      ]
     },
     "execution_count": 26,
     "metadata": {},
     "output_type": "execute_result"
    }
   ],
   "source": [
    "12 ^ 13"
   ]
  },
  {
   "cell_type": "markdown",
   "id": "2477de9e",
   "metadata": {},
   "source": [
    "# left shift (<<)"
   ]
  },
  {
   "cell_type": "code",
   "execution_count": 27,
   "id": "a4bed118",
   "metadata": {},
   "outputs": [
    {
     "data": {
      "text/plain": [
       "40"
      ]
     },
     "execution_count": 27,
     "metadata": {},
     "output_type": "execute_result"
    }
   ],
   "source": [
    "10 << 2"
   ]
  },
  {
   "cell_type": "code",
   "execution_count": 28,
   "id": "c9268cc8",
   "metadata": {},
   "outputs": [
    {
     "data": {
      "text/plain": [
       "40"
      ]
     },
     "execution_count": 28,
     "metadata": {},
     "output_type": "execute_result"
    }
   ],
   "source": [
    "0b101000"
   ]
  },
  {
   "cell_type": "code",
   "execution_count": 29,
   "id": "9cb20570",
   "metadata": {},
   "outputs": [],
   "source": [
    "# binary format of 10 \n",
    "\n",
    "# 2 | 10 -> 0\n",
    "# 2 | 5  -> 1\n",
    "# 2 | 2  -> 0\n",
    "# 2 | 1  -> 1\n",
    "\n",
    "# 10 = 1010\n",
    "\n",
    "# LEFT SHIFT 2  0's  to left side of the binary format of 10 and where we add 2 0's to the end and we get \n",
    "\n",
    "# 10 << 2 = 1010|00\n",
    "\n",
    "# where 101000 is the binary format for \"40\""
   ]
  },
  {
   "cell_type": "markdown",
   "id": "62f6b636",
   "metadata": {},
   "source": [
    "# right shift (>>)"
   ]
  },
  {
   "cell_type": "code",
   "execution_count": 30,
   "id": "cdbe2198",
   "metadata": {},
   "outputs": [
    {
     "data": {
      "text/plain": [
       "2"
      ]
     },
     "execution_count": 30,
     "metadata": {},
     "output_type": "execute_result"
    }
   ],
   "source": [
    "10 >> 2"
   ]
  },
  {
   "cell_type": "code",
   "execution_count": 31,
   "id": "e65d9ad5",
   "metadata": {},
   "outputs": [],
   "source": [
    "# binary format of 10 \n",
    "\n",
    "# 2 | 10 -> 0\n",
    "# 2 | 5  -> 1\n",
    "# 2 | 2  -> 0\n",
    "# 2 | 1  -> 1\n",
    "\n",
    "# 10 = 1010\n",
    "\n",
    "# RIGHT SHIFT 2  0's  to right side of the binary format of 10 and where we loss 2 0's to the right and we get\n",
    "\n",
    "# 10 << 2 = 10|01\n",
    "\n",
    "# where 10 is the binary format for \"2\""
   ]
  }
 ],
 "metadata": {
  "kernelspec": {
   "display_name": "Python 3 (ipykernel)",
   "language": "python",
   "name": "python3"
  },
  "language_info": {
   "codemirror_mode": {
    "name": "ipython",
    "version": 3
   },
   "file_extension": ".py",
   "mimetype": "text/x-python",
   "name": "python",
   "nbconvert_exporter": "python",
   "pygments_lexer": "ipython3",
   "version": "3.9.7"
  }
 },
 "nbformat": 4,
 "nbformat_minor": 5
}
