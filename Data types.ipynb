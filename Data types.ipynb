{
 "cells": [
  {
   "cell_type": "code",
   "execution_count": 1,
   "id": "2ebfbd12",
   "metadata": {},
   "outputs": [],
   "source": [
    "# - None\n",
    "# - Numeric\n",
    "# - List\n",
    "# - Tuple\n",
    "# - Set\n",
    "# - String\n",
    "# - Range\n",
    "# - Dictionary"
   ]
  },
  {
   "cell_type": "markdown",
   "id": "8f450c59",
   "metadata": {},
   "source": [
    "# 1-None"
   ]
  },
  {
   "cell_type": "code",
   "execution_count": 2,
   "id": "514ca011",
   "metadata": {},
   "outputs": [],
   "source": [
    "# None=null"
   ]
  },
  {
   "cell_type": "markdown",
   "id": "e841cf9d",
   "metadata": {},
   "source": [
    "## 2-Numeric"
   ]
  },
  {
   "cell_type": "code",
   "execution_count": 3,
   "id": "0def87a0",
   "metadata": {},
   "outputs": [],
   "source": [
    "# - int\n",
    "# - float\n",
    "# - complex\n",
    "# - bool"
   ]
  },
  {
   "cell_type": "markdown",
   "id": "8d6f1525",
   "metadata": {},
   "source": [
    "### int"
   ]
  },
  {
   "cell_type": "code",
   "execution_count": 4,
   "id": "8a38c9dc",
   "metadata": {},
   "outputs": [
    {
     "data": {
      "text/plain": [
       "int"
      ]
     },
     "execution_count": 4,
     "metadata": {},
     "output_type": "execute_result"
    }
   ],
   "source": [
    "type(1)"
   ]
  },
  {
   "cell_type": "markdown",
   "id": "11022e53",
   "metadata": {},
   "source": [
    "### float"
   ]
  },
  {
   "cell_type": "code",
   "execution_count": 5,
   "id": "e64c0903",
   "metadata": {},
   "outputs": [
    {
     "data": {
      "text/plain": [
       "float"
      ]
     },
     "execution_count": 5,
     "metadata": {},
     "output_type": "execute_result"
    }
   ],
   "source": [
    "type(3.4)"
   ]
  },
  {
   "cell_type": "markdown",
   "id": "cf71fdb2",
   "metadata": {},
   "source": [
    "### Complex"
   ]
  },
  {
   "cell_type": "code",
   "execution_count": 6,
   "id": "272ed96f",
   "metadata": {},
   "outputs": [],
   "source": [
    "num=6+9j"
   ]
  },
  {
   "cell_type": "code",
   "execution_count": 7,
   "id": "cb378610",
   "metadata": {},
   "outputs": [
    {
     "data": {
      "text/plain": [
       "complex"
      ]
     },
     "execution_count": 7,
     "metadata": {},
     "output_type": "execute_result"
    }
   ],
   "source": [
    "type(num)"
   ]
  },
  {
   "cell_type": "code",
   "execution_count": 8,
   "id": "39d7ad3b",
   "metadata": {},
   "outputs": [],
   "source": [
    "a=5.6\n",
    "b=int(a)"
   ]
  },
  {
   "cell_type": "code",
   "execution_count": 9,
   "id": "02f87f23",
   "metadata": {},
   "outputs": [
    {
     "data": {
      "text/plain": [
       "(int, 5)"
      ]
     },
     "execution_count": 9,
     "metadata": {},
     "output_type": "execute_result"
    }
   ],
   "source": [
    "type(b),b"
   ]
  },
  {
   "cell_type": "code",
   "execution_count": 10,
   "id": "31c62dc0",
   "metadata": {},
   "outputs": [],
   "source": [
    "k=float(b)"
   ]
  },
  {
   "cell_type": "code",
   "execution_count": 11,
   "id": "49ecd66b",
   "metadata": {},
   "outputs": [
    {
     "data": {
      "text/plain": [
       "5.0"
      ]
     },
     "execution_count": 11,
     "metadata": {},
     "output_type": "execute_result"
    }
   ],
   "source": [
    "k"
   ]
  },
  {
   "cell_type": "code",
   "execution_count": 12,
   "id": "a6b0d724",
   "metadata": {},
   "outputs": [
    {
     "data": {
      "text/plain": [
       "float"
      ]
     },
     "execution_count": 12,
     "metadata": {},
     "output_type": "execute_result"
    }
   ],
   "source": [
    "type(k)"
   ]
  },
  {
   "cell_type": "code",
   "execution_count": 13,
   "id": "4180b56b",
   "metadata": {},
   "outputs": [],
   "source": [
    "c=complex(b,k)"
   ]
  },
  {
   "cell_type": "code",
   "execution_count": 14,
   "id": "873b6438",
   "metadata": {},
   "outputs": [
    {
     "data": {
      "text/plain": [
       "(5+5j)"
      ]
     },
     "execution_count": 14,
     "metadata": {},
     "output_type": "execute_result"
    }
   ],
   "source": [
    "c"
   ]
  },
  {
   "cell_type": "markdown",
   "id": "d4e04191",
   "metadata": {},
   "source": [
    "## bool"
   ]
  },
  {
   "cell_type": "code",
   "execution_count": 15,
   "id": "f097988b",
   "metadata": {},
   "outputs": [
    {
     "data": {
      "text/plain": [
       "True"
      ]
     },
     "execution_count": 15,
     "metadata": {},
     "output_type": "execute_result"
    }
   ],
   "source": [
    "bool(a)"
   ]
  },
  {
   "cell_type": "code",
   "execution_count": 16,
   "id": "e8362781",
   "metadata": {},
   "outputs": [
    {
     "data": {
      "text/plain": [
       "False"
      ]
     },
     "execution_count": 16,
     "metadata": {},
     "output_type": "execute_result"
    }
   ],
   "source": [
    "bool(a)==3"
   ]
  },
  {
   "cell_type": "code",
   "execution_count": 17,
   "id": "68cfb597",
   "metadata": {},
   "outputs": [
    {
     "data": {
      "text/plain": [
       "False"
      ]
     },
     "execution_count": 17,
     "metadata": {},
     "output_type": "execute_result"
    }
   ],
   "source": [
    "b<k"
   ]
  },
  {
   "cell_type": "code",
   "execution_count": 18,
   "id": "3e888d38",
   "metadata": {},
   "outputs": [],
   "source": [
    "bool=b<k "
   ]
  },
  {
   "cell_type": "code",
   "execution_count": 19,
   "id": "d94c19fb",
   "metadata": {},
   "outputs": [
    {
     "data": {
      "text/plain": [
       "False"
      ]
     },
     "execution_count": 19,
     "metadata": {},
     "output_type": "execute_result"
    }
   ],
   "source": [
    "bool"
   ]
  },
  {
   "cell_type": "code",
   "execution_count": 20,
   "id": "2a283f70",
   "metadata": {},
   "outputs": [
    {
     "data": {
      "text/plain": [
       "bool"
      ]
     },
     "execution_count": 20,
     "metadata": {},
     "output_type": "execute_result"
    }
   ],
   "source": [
    "type(bool)"
   ]
  },
  {
   "cell_type": "code",
   "execution_count": 21,
   "id": "4e5043cb",
   "metadata": {},
   "outputs": [
    {
     "data": {
      "text/plain": [
       "0"
      ]
     },
     "execution_count": 21,
     "metadata": {},
     "output_type": "execute_result"
    }
   ],
   "source": [
    "int(False)"
   ]
  },
  {
   "cell_type": "code",
   "execution_count": 22,
   "id": "91f9bb4b",
   "metadata": {},
   "outputs": [
    {
     "data": {
      "text/plain": [
       "1"
      ]
     },
     "execution_count": 22,
     "metadata": {},
     "output_type": "execute_result"
    }
   ],
   "source": [
    "int(True)"
   ]
  },
  {
   "cell_type": "markdown",
   "id": "b44e6415",
   "metadata": {},
   "source": [
    "# 3-List"
   ]
  },
  {
   "cell_type": "code",
   "execution_count": 23,
   "id": "862e8ddc",
   "metadata": {},
   "outputs": [],
   "source": [
    "lst=[25,36,45,12]"
   ]
  },
  {
   "cell_type": "code",
   "execution_count": 24,
   "id": "20f5a58a",
   "metadata": {},
   "outputs": [
    {
     "data": {
      "text/plain": [
       "list"
      ]
     },
     "execution_count": 24,
     "metadata": {},
     "output_type": "execute_result"
    }
   ],
   "source": [
    "type(lst)"
   ]
  },
  {
   "cell_type": "markdown",
   "id": "90cc8ca2",
   "metadata": {},
   "source": [
    "# 4-Set"
   ]
  },
  {
   "cell_type": "code",
   "execution_count": 25,
   "id": "d7d5b18b",
   "metadata": {},
   "outputs": [],
   "source": [
    "s={25,4,6,334,45}"
   ]
  },
  {
   "cell_type": "code",
   "execution_count": 26,
   "id": "26d2ae56",
   "metadata": {},
   "outputs": [
    {
     "data": {
      "text/plain": [
       "set"
      ]
     },
     "execution_count": 26,
     "metadata": {},
     "output_type": "execute_result"
    }
   ],
   "source": [
    "type(s)"
   ]
  },
  {
   "cell_type": "markdown",
   "id": "1ff22cf8",
   "metadata": {},
   "source": [
    "# 5-Tuple"
   ]
  },
  {
   "cell_type": "code",
   "execution_count": 27,
   "id": "05bc4498",
   "metadata": {},
   "outputs": [],
   "source": [
    "t=(23,5,63,2,6,7,'abhi')"
   ]
  },
  {
   "cell_type": "code",
   "execution_count": 28,
   "id": "8782a9d5",
   "metadata": {},
   "outputs": [
    {
     "data": {
      "text/plain": [
       "tuple"
      ]
     },
     "execution_count": 28,
     "metadata": {},
     "output_type": "execute_result"
    }
   ],
   "source": [
    "type(t)"
   ]
  },
  {
   "cell_type": "markdown",
   "id": "431bae84",
   "metadata": {},
   "source": [
    "# 6-String"
   ]
  },
  {
   "cell_type": "code",
   "execution_count": 29,
   "id": "13a1598a",
   "metadata": {},
   "outputs": [],
   "source": [
    "str1='abhi'"
   ]
  },
  {
   "cell_type": "code",
   "execution_count": 30,
   "id": "cbb62eaf",
   "metadata": {},
   "outputs": [
    {
     "data": {
      "text/plain": [
       "str"
      ]
     },
     "execution_count": 30,
     "metadata": {},
     "output_type": "execute_result"
    }
   ],
   "source": [
    "type(str1)"
   ]
  },
  {
   "cell_type": "code",
   "execution_count": 31,
   "id": "0c0acf75",
   "metadata": {},
   "outputs": [],
   "source": [
    "st='a'"
   ]
  },
  {
   "cell_type": "code",
   "execution_count": 32,
   "id": "2019b33c",
   "metadata": {},
   "outputs": [
    {
     "data": {
      "text/plain": [
       "str"
      ]
     },
     "execution_count": 32,
     "metadata": {},
     "output_type": "execute_result"
    }
   ],
   "source": [
    "type(st)"
   ]
  },
  {
   "cell_type": "markdown",
   "id": "d65c9822",
   "metadata": {},
   "source": [
    "# 7-Range"
   ]
  },
  {
   "cell_type": "code",
   "execution_count": 33,
   "id": "3a31ba11",
   "metadata": {},
   "outputs": [
    {
     "data": {
      "text/plain": [
       "range(0, 10)"
      ]
     },
     "execution_count": 33,
     "metadata": {},
     "output_type": "execute_result"
    }
   ],
   "source": [
    "range(0,10)"
   ]
  },
  {
   "cell_type": "code",
   "execution_count": 34,
   "id": "0bab058a",
   "metadata": {},
   "outputs": [
    {
     "data": {
      "text/plain": [
       "[0, 1, 2, 3, 4, 5, 6, 7, 8, 9]"
      ]
     },
     "execution_count": 34,
     "metadata": {},
     "output_type": "execute_result"
    }
   ],
   "source": [
    "list(range(10))"
   ]
  },
  {
   "cell_type": "code",
   "execution_count": 35,
   "id": "593e8b26",
   "metadata": {},
   "outputs": [
    {
     "data": {
      "text/plain": [
       "[2, 4, 6, 8, 10]"
      ]
     },
     "execution_count": 35,
     "metadata": {},
     "output_type": "execute_result"
    }
   ],
   "source": [
    "list(range(2,11,2))"
   ]
  },
  {
   "cell_type": "code",
   "execution_count": 36,
   "id": "7620713c",
   "metadata": {},
   "outputs": [
    {
     "data": {
      "text/plain": [
       "range"
      ]
     },
     "execution_count": 36,
     "metadata": {},
     "output_type": "execute_result"
    }
   ],
   "source": [
    "type(range(10))"
   ]
  },
  {
   "cell_type": "markdown",
   "id": "5af14e79",
   "metadata": {},
   "source": [
    "# 8-Dictionary"
   ]
  },
  {
   "cell_type": "code",
   "execution_count": 37,
   "id": "787b4237",
   "metadata": {},
   "outputs": [],
   "source": [
    "d={'navin':'samsung','rahul':'Iphone','kiran':'Oneplus'}"
   ]
  },
  {
   "cell_type": "code",
   "execution_count": 38,
   "id": "277227a5",
   "metadata": {},
   "outputs": [
    {
     "data": {
      "text/plain": [
       "dict"
      ]
     },
     "execution_count": 38,
     "metadata": {},
     "output_type": "execute_result"
    }
   ],
   "source": [
    "type(d)"
   ]
  },
  {
   "cell_type": "code",
   "execution_count": 39,
   "id": "2c81ad27",
   "metadata": {},
   "outputs": [
    {
     "data": {
      "text/plain": [
       "dict_keys(['navin', 'rahul', 'kiran'])"
      ]
     },
     "execution_count": 39,
     "metadata": {},
     "output_type": "execute_result"
    }
   ],
   "source": [
    "d.keys()"
   ]
  },
  {
   "cell_type": "code",
   "execution_count": 40,
   "id": "5d9362b5",
   "metadata": {},
   "outputs": [
    {
     "data": {
      "text/plain": [
       "dict_values(['samsung', 'Iphone', 'Oneplus'])"
      ]
     },
     "execution_count": 40,
     "metadata": {},
     "output_type": "execute_result"
    }
   ],
   "source": [
    "d.values()"
   ]
  },
  {
   "cell_type": "code",
   "execution_count": 41,
   "id": "943f45d9",
   "metadata": {},
   "outputs": [
    {
     "data": {
      "text/plain": [
       "dict_items([('navin', 'samsung'), ('rahul', 'Iphone'), ('kiran', 'Oneplus')])"
      ]
     },
     "execution_count": 41,
     "metadata": {},
     "output_type": "execute_result"
    }
   ],
   "source": [
    "d.items()"
   ]
  },
  {
   "cell_type": "code",
   "execution_count": 42,
   "id": "c7d546cf",
   "metadata": {},
   "outputs": [
    {
     "data": {
      "text/plain": [
       "'Iphone'"
      ]
     },
     "execution_count": 42,
     "metadata": {},
     "output_type": "execute_result"
    }
   ],
   "source": [
    "d['rahul']"
   ]
  },
  {
   "cell_type": "markdown",
   "id": "fef3e812",
   "metadata": {},
   "source": [
    "or"
   ]
  },
  {
   "cell_type": "code",
   "execution_count": 43,
   "id": "205ace06",
   "metadata": {},
   "outputs": [
    {
     "data": {
      "text/plain": [
       "'Iphone'"
      ]
     },
     "execution_count": 43,
     "metadata": {},
     "output_type": "execute_result"
    }
   ],
   "source": [
    "d.get('rahul')"
   ]
  }
 ],
 "metadata": {
  "kernelspec": {
   "display_name": "Python 3 (ipykernel)",
   "language": "python",
   "name": "python3"
  },
  "language_info": {
   "codemirror_mode": {
    "name": "ipython",
    "version": 3
   },
   "file_extension": ".py",
   "mimetype": "text/x-python",
   "name": "python",
   "nbconvert_exporter": "python",
   "pygments_lexer": "ipython3",
   "version": "3.9.7"
  }
 },
 "nbformat": 4,
 "nbformat_minor": 5
}
