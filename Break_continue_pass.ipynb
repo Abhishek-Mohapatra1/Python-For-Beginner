{
 "cells": [
  {
   "cell_type": "markdown",
   "id": "9623a012",
   "metadata": {},
   "source": [
    "# Break Statement"
   ]
  },
  {
   "cell_type": "code",
   "execution_count": 9,
   "id": "2391200a",
   "metadata": {},
   "outputs": [
    {
     "name": "stdout",
     "output_type": "stream",
     "text": [
      "how many candies you want? :10\n",
      "candy\n",
      "candy\n",
      "candy\n",
      "candy\n"
     ]
    }
   ],
   "source": [
    "x=int(input('how many candies you want? :'))\n",
    "av=4            # available candies\n",
    "i=1\n",
    "while i<=x:\n",
    "    if i>av:\n",
    "        print('out of stock')\n",
    "        break    \n",
    "    print('candy')\n",
    "    i+=1"
   ]
  },
  {
   "cell_type": "code",
   "execution_count": 23,
   "id": "c4c69531",
   "metadata": {},
   "outputs": [
    {
     "name": "stdout",
     "output_type": "stream",
     "text": [
      "the number divisible by 3 or 7 : [3, 6, 7, 9, 12, 14, 15, 18, 21, 24, 27, 28, 30, 33]\n",
      "the number divisible by 5 : [15, 30]\n"
     ]
    }
   ],
   "source": [
    "i=1\n",
    "lt1=[]\n",
    "lt2=[]\n",
    "while i<=50:\n",
    "    if i<35:\n",
    "        if i%3==0 or i%7==0:\n",
    "            lt1.append(i)\n",
    "            if i%5==0:\n",
    "                lt2.append(i)\n",
    "    else:\n",
    "        break\n",
    "    i+=1\n",
    "print('the number divisible by 3 or 7 :',lt1)\n",
    "print('the number divisible by 5 :',lt2)       "
   ]
  },
  {
   "cell_type": "code",
   "execution_count": 25,
   "id": "632f0da1",
   "metadata": {},
   "outputs": [
    {
     "name": "stdout",
     "output_type": "stream",
     "text": [
      "enter the quantity of phone10\n",
      "1 Iphone\n",
      "2 Iphone\n",
      "3 Iphone\n",
      "4 Iphone\n",
      "5 Iphone\n",
      "out of stock\n"
     ]
    }
   ],
   "source": [
    "avq=5\n",
    "i=1\n",
    "x=int(input('enter the quantity of phone'))\n",
    "while i<=x:\n",
    "    if i>avq:\n",
    "        print('out of stock')\n",
    "        break\n",
    "    print(i,'Iphone')\n",
    "    i+=1"
   ]
  },
  {
   "cell_type": "markdown",
   "id": "d5a64168",
   "metadata": {},
   "source": [
    "# Continue"
   ]
  },
  {
   "cell_type": "code",
   "execution_count": 30,
   "id": "3ff2a46c",
   "metadata": {},
   "outputs": [
    {
     "name": "stdout",
     "output_type": "stream",
     "text": [
      "1,2,4,8,11,13,16,17,19,22,23,26,29,31,32,34,37,38,41,43,44,46,47,52,53,58,59,61,62,64,67,68,71,73,74,76,79,82,83,86,88,89,92,94,97,"
     ]
    }
   ],
   "source": [
    "for i in range(1,101):\n",
    "    if i%3==0 or i%5==0 or i%7==0:\n",
    "        continue\n",
    "    print(i,end=',')"
   ]
  },
  {
   "cell_type": "code",
   "execution_count": 39,
   "id": "ab16f1a2",
   "metadata": {},
   "outputs": [
    {
     "name": "stdout",
     "output_type": "stream",
     "text": [
      "2,3,4,5,6,7,8,9,10,"
     ]
    }
   ],
   "source": [
    "for i in range(0,11):\n",
    "    if i%2==0:             # excludes the variable which are divisible by 2\n",
    "        continue\n",
    "    print(i,end=',')"
   ]
  },
  {
   "cell_type": "code",
   "execution_count": 47,
   "id": "2dba759b",
   "metadata": {},
   "outputs": [
    {
     "name": "stdout",
     "output_type": "stream",
     "text": [
      "enter the number1\n"
     ]
    },
    {
     "data": {
      "text/plain": [
       "1"
      ]
     },
     "execution_count": 47,
     "metadata": {},
     "output_type": "execute_result"
    }
   ],
   "source": [
    "i=int(input('enter the number'))\n",
    "i%2"
   ]
  },
  {
   "cell_type": "code",
   "execution_count": 50,
   "id": "9f8ef536",
   "metadata": {},
   "outputs": [
    {
     "name": "stdout",
     "output_type": "stream",
     "text": [
      "3,5,6,9,10,12,15,18,20,21,24,25,27,30,"
     ]
    }
   ],
   "source": [
    "for i in range(1,100):\n",
    "    if i%3==0 or i%5==0:\n",
    "        if i>30:\n",
    "            continue\n",
    "        print(i,end=',')"
   ]
  },
  {
   "cell_type": "code",
   "execution_count": 64,
   "id": "531a0caf",
   "metadata": {},
   "outputs": [
    {
     "name": "stdout",
     "output_type": "stream",
     "text": [
      "enter the lower range :1\n",
      "enter the upper range :100\n",
      "2,3,5,7,11,13,17,19,23,29,31,37,41,43,47,53,59,61,67,71,73,79,83,89,97,"
     ]
    }
   ],
   "source": [
    "lower=eval(input('enter the lower range :'))\n",
    "upper=eval(input('enter the upper range :'))\n",
    "for num in range(lower,upper+1):\n",
    "    if num>1:\n",
    "        for i in range(2,num):\n",
    "            if num%i==0:\n",
    "                break\n",
    "        else:\n",
    "            print(num,end=',')"
   ]
  },
  {
   "cell_type": "code",
   "execution_count": 68,
   "id": "05c92d48",
   "metadata": {},
   "outputs": [
    {
     "name": "stdout",
     "output_type": "stream",
     "text": [
      "enter the number :10\n",
      "candy\n",
      "candy\n",
      "candy\n",
      "candy\n",
      "candy\n",
      "out of stock\n"
     ]
    }
   ],
   "source": [
    "avc=5\n",
    "x=eval(input('enter the number :'))\n",
    "i=1\n",
    "while i<=x:\n",
    "    if i>avc:\n",
    "        print('out of stock')\n",
    "        break\n",
    "    print('candy')\n",
    "    i+=1"
   ]
  },
  {
   "cell_type": "code",
   "execution_count": null,
   "id": "edbdde93",
   "metadata": {},
   "outputs": [],
   "source": []
  }
 ],
 "metadata": {
  "kernelspec": {
   "display_name": "Python 3 (ipykernel)",
   "language": "python",
   "name": "python3"
  },
  "language_info": {
   "codemirror_mode": {
    "name": "ipython",
    "version": 3
   },
   "file_extension": ".py",
   "mimetype": "text/x-python",
   "name": "python",
   "nbconvert_exporter": "python",
   "pygments_lexer": "ipython3",
   "version": "3.9.7"
  }
 },
 "nbformat": 4,
 "nbformat_minor": 5
}
