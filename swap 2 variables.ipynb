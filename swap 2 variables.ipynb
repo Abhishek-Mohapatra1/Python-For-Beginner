{
 "cells": [
  {
   "cell_type": "code",
   "execution_count": 1,
   "id": "84d07a60",
   "metadata": {},
   "outputs": [],
   "source": [
    "a=5\n",
    "b=6"
   ]
  },
  {
   "cell_type": "code",
   "execution_count": 2,
   "id": "745b0d7a",
   "metadata": {},
   "outputs": [],
   "source": [
    "a=b"
   ]
  },
  {
   "cell_type": "code",
   "execution_count": 3,
   "id": "6b9d5f2f",
   "metadata": {},
   "outputs": [],
   "source": [
    "b=a"
   ]
  },
  {
   "cell_type": "code",
   "execution_count": 4,
   "id": "c7fd21f2",
   "metadata": {},
   "outputs": [
    {
     "name": "stdout",
     "output_type": "stream",
     "text": [
      "6\n",
      "6\n"
     ]
    }
   ],
   "source": [
    "print(a)\n",
    "print(b)"
   ]
  },
  {
   "cell_type": "code",
   "execution_count": 5,
   "id": "1e2c256f",
   "metadata": {},
   "outputs": [],
   "source": [
    "temp=a"
   ]
  },
  {
   "cell_type": "code",
   "execution_count": 6,
   "id": "b338e995",
   "metadata": {},
   "outputs": [],
   "source": [
    "b=temp"
   ]
  },
  {
   "cell_type": "code",
   "execution_count": 7,
   "id": "382552ad",
   "metadata": {},
   "outputs": [
    {
     "name": "stdout",
     "output_type": "stream",
     "text": [
      "6\n"
     ]
    }
   ],
   "source": [
    "print(a)"
   ]
  },
  {
   "cell_type": "code",
   "execution_count": 8,
   "id": "2e2b2125",
   "metadata": {},
   "outputs": [
    {
     "name": "stdout",
     "output_type": "stream",
     "text": [
      "6\n"
     ]
    }
   ],
   "source": [
    "print(b)"
   ]
  },
  {
   "cell_type": "code",
   "execution_count": 9,
   "id": "de2713bb",
   "metadata": {},
   "outputs": [],
   "source": [
    "a=5\n",
    "b=6"
   ]
  },
  {
   "cell_type": "code",
   "execution_count": 10,
   "id": "902fc43a",
   "metadata": {},
   "outputs": [],
   "source": [
    "a= a+b  # 5+6 =11\n",
    "b= a-b  # 11-6 =5\n",
    "a= a-b  # 11-6 =5 "
   ]
  },
  {
   "cell_type": "code",
   "execution_count": 11,
   "id": "8d5f3a58",
   "metadata": {},
   "outputs": [
    {
     "name": "stdout",
     "output_type": "stream",
     "text": [
      "print a : 6\n",
      "print b : 5\n"
     ]
    }
   ],
   "source": [
    "print('print a :',a)\n",
    "print('print b :',b)"
   ]
  },
  {
   "cell_type": "raw",
   "id": "34ec6a0b",
   "metadata": {},
   "source": [
    "So the variables are swapped"
   ]
  },
  {
   "cell_type": "code",
   "execution_count": 12,
   "id": "dc0478cd",
   "metadata": {},
   "outputs": [],
   "source": [
    "a,b=b,a"
   ]
  },
  {
   "cell_type": "code",
   "execution_count": 13,
   "id": "c412b355",
   "metadata": {},
   "outputs": [
    {
     "name": "stdout",
     "output_type": "stream",
     "text": [
      "5 6\n"
     ]
    }
   ],
   "source": [
    "print(a,b)"
   ]
  },
  {
   "cell_type": "code",
   "execution_count": null,
   "id": "8f577e4f",
   "metadata": {},
   "outputs": [],
   "source": []
  }
 ],
 "metadata": {
  "kernelspec": {
   "display_name": "Python 3 (ipykernel)",
   "language": "python",
   "name": "python3"
  },
  "language_info": {
   "codemirror_mode": {
    "name": "ipython",
    "version": 3
   },
   "file_extension": ".py",
   "mimetype": "text/x-python",
   "name": "python",
   "nbconvert_exporter": "python",
   "pygments_lexer": "ipython3",
   "version": "3.9.7"
  }
 },
 "nbformat": 4,
 "nbformat_minor": 5
}
