{
 "cells": [
  {
   "cell_type": "code",
   "execution_count": 1,
   "id": "bc9ca1ee",
   "metadata": {},
   "outputs": [],
   "source": [
    "# -Arithemetic operators\n",
    "# -Assignment operators\n",
    "# -Relational operators\n",
    "# -logical operators\n",
    "# -unary operators"
   ]
  },
  {
   "cell_type": "markdown",
   "id": "1754df4a",
   "metadata": {},
   "source": [
    "# Arithemetic operators"
   ]
  },
  {
   "cell_type": "code",
   "execution_count": 2,
   "id": "089b3ff4",
   "metadata": {},
   "outputs": [],
   "source": [
    "#           + , - , / ,* , **"
   ]
  },
  {
   "cell_type": "code",
   "execution_count": 3,
   "id": "f9a7a861",
   "metadata": {},
   "outputs": [],
   "source": [
    "x=3\n",
    "y=5"
   ]
  },
  {
   "cell_type": "code",
   "execution_count": 4,
   "id": "1455c1a8",
   "metadata": {},
   "outputs": [
    {
     "data": {
      "text/plain": [
       "8"
      ]
     },
     "execution_count": 4,
     "metadata": {},
     "output_type": "execute_result"
    }
   ],
   "source": [
    "x+y\n"
   ]
  },
  {
   "cell_type": "code",
   "execution_count": 5,
   "id": "d2a88e6f",
   "metadata": {},
   "outputs": [
    {
     "data": {
      "text/plain": [
       "-2"
      ]
     },
     "execution_count": 5,
     "metadata": {},
     "output_type": "execute_result"
    }
   ],
   "source": [
    "x-y"
   ]
  },
  {
   "cell_type": "code",
   "execution_count": 6,
   "id": "03310f9b",
   "metadata": {},
   "outputs": [
    {
     "data": {
      "text/plain": [
       "15"
      ]
     },
     "execution_count": 6,
     "metadata": {},
     "output_type": "execute_result"
    }
   ],
   "source": [
    "x*y"
   ]
  },
  {
   "cell_type": "code",
   "execution_count": 7,
   "id": "7f334dcf",
   "metadata": {},
   "outputs": [
    {
     "data": {
      "text/plain": [
       "0.6"
      ]
     },
     "execution_count": 7,
     "metadata": {},
     "output_type": "execute_result"
    }
   ],
   "source": [
    "x/y"
   ]
  },
  {
   "cell_type": "markdown",
   "id": "af4804c5",
   "metadata": {},
   "source": [
    "# Assignment Operators"
   ]
  },
  {
   "cell_type": "code",
   "execution_count": 8,
   "id": "22f18e2f",
   "metadata": {},
   "outputs": [],
   "source": [
    "#           +=, -= , *= "
   ]
  },
  {
   "cell_type": "code",
   "execution_count": 9,
   "id": "02c07887",
   "metadata": {},
   "outputs": [],
   "source": [
    "# assigning the values to the elements"
   ]
  },
  {
   "cell_type": "code",
   "execution_count": 10,
   "id": "781162bb",
   "metadata": {},
   "outputs": [
    {
     "data": {
      "text/plain": [
       "5"
      ]
     },
     "execution_count": 10,
     "metadata": {},
     "output_type": "execute_result"
    }
   ],
   "source": [
    "x=x+2\n",
    "x"
   ]
  },
  {
   "cell_type": "code",
   "execution_count": 11,
   "id": "fea26a93",
   "metadata": {},
   "outputs": [
    {
     "data": {
      "text/plain": [
       "7"
      ]
     },
     "execution_count": 11,
     "metadata": {},
     "output_type": "execute_result"
    }
   ],
   "source": [
    "x+=2\n",
    "x"
   ]
  },
  {
   "cell_type": "code",
   "execution_count": 12,
   "id": "643a90ea",
   "metadata": {},
   "outputs": [
    {
     "data": {
      "text/plain": [
       "21"
      ]
     },
     "execution_count": 12,
     "metadata": {},
     "output_type": "execute_result"
    }
   ],
   "source": [
    "x*=3\n",
    "x"
   ]
  },
  {
   "cell_type": "code",
   "execution_count": 13,
   "id": "e5cb4b09",
   "metadata": {},
   "outputs": [],
   "source": [
    "a,b=5,6"
   ]
  },
  {
   "cell_type": "code",
   "execution_count": 14,
   "id": "9303c01c",
   "metadata": {},
   "outputs": [
    {
     "data": {
      "text/plain": [
       "(5, 6)"
      ]
     },
     "execution_count": 14,
     "metadata": {},
     "output_type": "execute_result"
    }
   ],
   "source": [
    "a,b"
   ]
  },
  {
   "cell_type": "markdown",
   "id": "70b30aa0",
   "metadata": {},
   "source": [
    "# Unary Operators"
   ]
  },
  {
   "cell_type": "code",
   "execution_count": 15,
   "id": "1ef480a9",
   "metadata": {},
   "outputs": [],
   "source": [
    "# assign single value"
   ]
  },
  {
   "cell_type": "code",
   "execution_count": 16,
   "id": "6768dbbb",
   "metadata": {},
   "outputs": [],
   "source": [
    "n=7"
   ]
  },
  {
   "cell_type": "code",
   "execution_count": 17,
   "id": "8e48c5f7",
   "metadata": {},
   "outputs": [
    {
     "data": {
      "text/plain": [
       "-7"
      ]
     },
     "execution_count": 17,
     "metadata": {},
     "output_type": "execute_result"
    }
   ],
   "source": [
    "-n"
   ]
  },
  {
   "cell_type": "code",
   "execution_count": 18,
   "id": "450043b3",
   "metadata": {},
   "outputs": [],
   "source": [
    "n=-n"
   ]
  },
  {
   "cell_type": "code",
   "execution_count": 19,
   "id": "cf6a0b65",
   "metadata": {},
   "outputs": [
    {
     "data": {
      "text/plain": [
       "-7"
      ]
     },
     "execution_count": 19,
     "metadata": {},
     "output_type": "execute_result"
    }
   ],
   "source": [
    "n"
   ]
  },
  {
   "cell_type": "markdown",
   "id": "e36e42b3",
   "metadata": {},
   "source": [
    "# Relational Operators"
   ]
  },
  {
   "cell_type": "code",
   "execution_count": 20,
   "id": "a0e48672",
   "metadata": {},
   "outputs": [],
   "source": [
    "#             < , > , == , <= ,>= ,!="
   ]
  },
  {
   "cell_type": "code",
   "execution_count": 21,
   "id": "6d4d85ce",
   "metadata": {},
   "outputs": [],
   "source": [
    "a=5\n",
    "b=6"
   ]
  },
  {
   "cell_type": "code",
   "execution_count": 22,
   "id": "c8f2f6c0",
   "metadata": {},
   "outputs": [
    {
     "data": {
      "text/plain": [
       "True"
      ]
     },
     "execution_count": 22,
     "metadata": {},
     "output_type": "execute_result"
    }
   ],
   "source": [
    "a<b"
   ]
  },
  {
   "cell_type": "code",
   "execution_count": 23,
   "id": "71c6ac2f",
   "metadata": {},
   "outputs": [
    {
     "data": {
      "text/plain": [
       "False"
      ]
     },
     "execution_count": 23,
     "metadata": {},
     "output_type": "execute_result"
    }
   ],
   "source": [
    "a>b"
   ]
  },
  {
   "cell_type": "code",
   "execution_count": 24,
   "id": "9f6d40e3",
   "metadata": {},
   "outputs": [
    {
     "data": {
      "text/plain": [
       "False"
      ]
     },
     "execution_count": 24,
     "metadata": {},
     "output_type": "execute_result"
    }
   ],
   "source": [
    "a==b # comparing the values if true or false"
   ]
  },
  {
   "cell_type": "code",
   "execution_count": 25,
   "id": "66651699",
   "metadata": {},
   "outputs": [],
   "source": [
    "a=6"
   ]
  },
  {
   "cell_type": "code",
   "execution_count": 26,
   "id": "8dfea76b",
   "metadata": {},
   "outputs": [
    {
     "data": {
      "text/plain": [
       "True"
      ]
     },
     "execution_count": 26,
     "metadata": {},
     "output_type": "execute_result"
    }
   ],
   "source": [
    "a==b"
   ]
  },
  {
   "cell_type": "code",
   "execution_count": 27,
   "id": "2e890dbd",
   "metadata": {},
   "outputs": [
    {
     "data": {
      "text/plain": [
       "True"
      ]
     },
     "execution_count": 27,
     "metadata": {},
     "output_type": "execute_result"
    }
   ],
   "source": [
    "a<=b  "
   ]
  },
  {
   "cell_type": "code",
   "execution_count": 28,
   "id": "5a27838b",
   "metadata": {},
   "outputs": [
    {
     "data": {
      "text/plain": [
       "False"
      ]
     },
     "execution_count": 28,
     "metadata": {},
     "output_type": "execute_result"
    }
   ],
   "source": [
    "a!=b"
   ]
  },
  {
   "cell_type": "code",
   "execution_count": 29,
   "id": "dbc7ee34",
   "metadata": {},
   "outputs": [],
   "source": [
    "b=7"
   ]
  },
  {
   "cell_type": "code",
   "execution_count": 30,
   "id": "9c3d2d6c",
   "metadata": {},
   "outputs": [
    {
     "data": {
      "text/plain": [
       "True"
      ]
     },
     "execution_count": 30,
     "metadata": {},
     "output_type": "execute_result"
    }
   ],
   "source": [
    "a!=b"
   ]
  },
  {
   "cell_type": "markdown",
   "id": "c4b03f93",
   "metadata": {},
   "source": [
    "# Logical Operators"
   ]
  },
  {
   "cell_type": "code",
   "execution_count": 31,
   "id": "a4190073",
   "metadata": {},
   "outputs": [],
   "source": [
    "#      and , or , not"
   ]
  },
  {
   "cell_type": "code",
   "execution_count": 32,
   "id": "1321b6c8",
   "metadata": {},
   "outputs": [],
   "source": [
    "a=5\n",
    "b=4"
   ]
  },
  {
   "cell_type": "code",
   "execution_count": 33,
   "id": "e7d5fc46",
   "metadata": {},
   "outputs": [
    {
     "data": {
      "text/plain": [
       "True"
      ]
     },
     "execution_count": 33,
     "metadata": {},
     "output_type": "execute_result"
    }
   ],
   "source": [
    "a<8 and b<5"
   ]
  },
  {
   "cell_type": "code",
   "execution_count": 34,
   "id": "c644422a",
   "metadata": {},
   "outputs": [
    {
     "data": {
      "text/plain": [
       "True"
      ]
     },
     "execution_count": 34,
     "metadata": {},
     "output_type": "execute_result"
    }
   ],
   "source": [
    "a<8 and b>2"
   ]
  },
  {
   "cell_type": "code",
   "execution_count": 35,
   "id": "c69f20b7",
   "metadata": {},
   "outputs": [
    {
     "data": {
      "text/plain": [
       "True"
      ]
     },
     "execution_count": 35,
     "metadata": {},
     "output_type": "execute_result"
    }
   ],
   "source": [
    "a<4 or b>3"
   ]
  },
  {
   "cell_type": "code",
   "execution_count": 36,
   "id": "91a90166",
   "metadata": {},
   "outputs": [],
   "source": [
    "# True=1\n",
    "# False=0\n",
    "\n",
    "# (And) all condition should be True to be True else not\n",
    "# x    y   result\n",
    "# 0    0     0        \n",
    "# 0    1     0\n",
    "# 1    0     0\n",
    "# 1    1     1\n",
    "\n",
    "\n",
    "# (Or) all condition should be False to be False else not\n",
    "# x    y   result\n",
    "# 0    0     0\n",
    "# 0    1     1\n",
    "# 1    0     1\n",
    "# 1    1     1\n"
   ]
  },
  {
   "cell_type": "code",
   "execution_count": 37,
   "id": "39aa74c1",
   "metadata": {},
   "outputs": [],
   "source": [
    "x=True"
   ]
  },
  {
   "cell_type": "code",
   "execution_count": 38,
   "id": "cc6c75ea",
   "metadata": {},
   "outputs": [
    {
     "data": {
      "text/plain": [
       "True"
      ]
     },
     "execution_count": 38,
     "metadata": {},
     "output_type": "execute_result"
    }
   ],
   "source": [
    "x"
   ]
  },
  {
   "cell_type": "code",
   "execution_count": 39,
   "id": "72ce24b9",
   "metadata": {},
   "outputs": [
    {
     "data": {
      "text/plain": [
       "False"
      ]
     },
     "execution_count": 39,
     "metadata": {},
     "output_type": "execute_result"
    }
   ],
   "source": [
    "not x"
   ]
  },
  {
   "cell_type": "code",
   "execution_count": 40,
   "id": "efb426b8",
   "metadata": {},
   "outputs": [],
   "source": [
    "x= not x"
   ]
  },
  {
   "cell_type": "code",
   "execution_count": 41,
   "id": "689217ab",
   "metadata": {},
   "outputs": [
    {
     "data": {
      "text/plain": [
       "False"
      ]
     },
     "execution_count": 41,
     "metadata": {},
     "output_type": "execute_result"
    }
   ],
   "source": [
    "x"
   ]
  },
  {
   "cell_type": "code",
   "execution_count": null,
   "id": "d9c84325",
   "metadata": {},
   "outputs": [],
   "source": []
  }
 ],
 "metadata": {
  "kernelspec": {
   "display_name": "Python 3 (ipykernel)",
   "language": "python",
   "name": "python3"
  },
  "language_info": {
   "codemirror_mode": {
    "name": "ipython",
    "version": 3
   },
   "file_extension": ".py",
   "mimetype": "text/x-python",
   "name": "python",
   "nbconvert_exporter": "python",
   "pygments_lexer": "ipython3",
   "version": "3.9.7"
  }
 },
 "nbformat": 4,
 "nbformat_minor": 5
}
