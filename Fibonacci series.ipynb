{
 "cells": [
  {
   "cell_type": "code",
   "execution_count": 1,
   "id": "b41af124",
   "metadata": {},
   "outputs": [
    {
     "name": "stdout",
     "output_type": "stream",
     "text": [
      "enter the number :50\n",
      "0, 1, 1, 2, 3, 5, 8, 13, 21, 34, "
     ]
    }
   ],
   "source": [
    "num=eval(input('enter the number :'))\n",
    "n1,n2 = 0,1\n",
    "print(n1,end=', ')\n",
    "while n2<=num:\n",
    "    print(n2,end=', ')\n",
    "    n1,n2 = n2, n1+n2"
   ]
  },
  {
   "cell_type": "code",
   "execution_count": 2,
   "id": "3c1548c9",
   "metadata": {},
   "outputs": [
    {
     "name": "stdout",
     "output_type": "stream",
     "text": [
      "2 3\n"
     ]
    }
   ],
   "source": [
    "# logic behind\n",
    "n1=1\n",
    "n2=2\n",
    "n1,n2=n2,n1+n2\n",
    "print(n1,n2)"
   ]
  },
  {
   "cell_type": "code",
   "execution_count": null,
   "id": "0a65297d",
   "metadata": {},
   "outputs": [],
   "source": []
  }
 ],
 "metadata": {
  "kernelspec": {
   "display_name": "Python 3 (ipykernel)",
   "language": "python",
   "name": "python3"
  },
  "language_info": {
   "codemirror_mode": {
    "name": "ipython",
    "version": 3
   },
   "file_extension": ".py",
   "mimetype": "text/x-python",
   "name": "python",
   "nbconvert_exporter": "python",
   "pygments_lexer": "ipython3",
   "version": "3.9.7"
  }
 },
 "nbformat": 4,
 "nbformat_minor": 5
}
