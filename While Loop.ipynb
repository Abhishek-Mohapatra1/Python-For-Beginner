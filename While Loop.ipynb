{
 "cells": [
  {
   "cell_type": "code",
   "execution_count": 1,
   "id": "d01a3919",
   "metadata": {},
   "outputs": [],
   "source": [
    "# for example we want to print \"Dog\" 5 times increment of 1 using while loop"
   ]
  },
  {
   "cell_type": "code",
   "execution_count": 2,
   "id": "be93bfc0",
   "metadata": {},
   "outputs": [
    {
     "name": "stdout",
     "output_type": "stream",
     "text": [
      "1 : Dog\n",
      "2 : Dog\n",
      "3 : Dog\n",
      "4 : Dog\n",
      "5 : Dog\n"
     ]
    }
   ],
   "source": [
    "i=1                    # starting from 1\n",
    "while i<=5:            # will be excuted until i >5\n",
    "    print(i,': Dog') \n",
    "    i+=1               # for every iteration will increment and print \"dog\" until the code is True"
   ]
  },
  {
   "cell_type": "code",
   "execution_count": 3,
   "id": "e60f1e32",
   "metadata": {},
   "outputs": [],
   "source": [
    "# for example we want to print \"Dog\" 5 times Decrement of 1 using while loop"
   ]
  },
  {
   "cell_type": "code",
   "execution_count": 4,
   "id": "f85626e9",
   "metadata": {},
   "outputs": [
    {
     "name": "stdout",
     "output_type": "stream",
     "text": [
      "5 : Dog\n",
      "4 : Dog\n",
      "3 : Dog\n",
      "2 : Dog\n",
      "1 : Dog\n"
     ]
    }
   ],
   "source": [
    "i=5                      # starting with 5\n",
    "while i>=1:               # will be excuted until i <1\n",
    "    print(i,': Dog')     \n",
    "    i-=1                 # for every iteration will decrement and print \"dog\" until the code is true"
   ]
  },
  {
   "cell_type": "markdown",
   "id": "1ec62b5c",
   "metadata": {},
   "source": [
    "# Nested While loop"
   ]
  },
  {
   "cell_type": "code",
   "execution_count": 5,
   "id": "54d38bf6",
   "metadata": {},
   "outputs": [
    {
     "name": "stdout",
     "output_type": "stream",
     "text": [
      "dog 1\n",
      "good animal\n",
      "good animal\n",
      "good animal\n",
      "good animal\n",
      "dog 2\n",
      "dog 3\n",
      "dog 4\n",
      "dog 5\n"
     ]
    }
   ],
   "source": [
    "i=1\n",
    "j=1\n",
    "while i<=5:\n",
    "    print('dog',i)\n",
    "    while j<=4:\n",
    "        print('good animal')\n",
    "        j+=1\n",
    "    i+=1"
   ]
  },
  {
   "cell_type": "code",
   "execution_count": 6,
   "id": "df579ad7",
   "metadata": {},
   "outputs": [
    {
     "name": "stdout",
     "output_type": "stream",
     "text": [
      "anil rocks rocks rocks rocks \n",
      "anil rocks rocks rocks rocks \n",
      "anil rocks rocks rocks rocks \n",
      "anil rocks rocks rocks rocks \n",
      "anil rocks rocks rocks rocks \n"
     ]
    }
   ],
   "source": [
    "i=1\n",
    "j=1\n",
    "while i<=5:\n",
    "    print('anil',end=' ')\n",
    "    j=1\n",
    "    while j<=4:\n",
    "        print('rocks',end=\" \")\n",
    "        j+=1\n",
    "    i+=1\n",
    "    print()"
   ]
  },
  {
   "cell_type": "code",
   "execution_count": 7,
   "id": "dae03a6d",
   "metadata": {},
   "outputs": [],
   "source": [
    "# pattern using while loop\n",
    "\n",
    "#          # * * *\n",
    "#          @ * * *\n",
    "#          ! * * *"
   ]
  },
  {
   "cell_type": "code",
   "execution_count": 8,
   "id": "e0aa298c",
   "metadata": {},
   "outputs": [
    {
     "name": "stdout",
     "output_type": "stream",
     "text": [
      "# * * * \n",
      "@ * * * \n",
      "! * * * "
     ]
    }
   ],
   "source": [
    "i=1\n",
    "while i<=1:\n",
    "    print('#',end=' ')\n",
    "    j=1\n",
    "    while j<=3:\n",
    "        print('*',end=' ')\n",
    "        j+=1\n",
    "    i+=1\n",
    "    print()\n",
    "k=1\n",
    "while k<=1:\n",
    "    print('@',end=' ')\n",
    "    l=1\n",
    "    while l<=3:\n",
    "        print('*',end=' ')\n",
    "        l+=1\n",
    "    k+=1\n",
    "    print()\n",
    "m=1\n",
    "while m<=1:\n",
    "    print('!',end=' ')\n",
    "    n=1\n",
    "    while n<=3:\n",
    "        print('*',end=' ')\n",
    "        n+=1\n",
    "    m+=1"
   ]
  },
  {
   "cell_type": "code",
   "execution_count": 9,
   "id": "8d08c463",
   "metadata": {},
   "outputs": [],
   "source": [
    "# pattern using while loop\n",
    "\n",
    "#           # $ * * *\n",
    "#           $ # * * *"
   ]
  },
  {
   "cell_type": "code",
   "execution_count": 10,
   "id": "5378ed1e",
   "metadata": {},
   "outputs": [
    {
     "name": "stdout",
     "output_type": "stream",
     "text": [
      "# $ * * * \n",
      "$ # * * * \n"
     ]
    }
   ],
   "source": [
    "i = 1\n",
    "while i<=1:\n",
    "    print('#','$',end=' ')\n",
    "    j=1\n",
    "    while j<=3:\n",
    "        print('*',end=' ')\n",
    "        j+=1\n",
    "    i+=1\n",
    "    print()\n",
    "k = 1\n",
    "while k<=1:\n",
    "    print('$','#',end=' ')\n",
    "    l=1\n",
    "    while l<=3:\n",
    "        print('*',end=' ')\n",
    "        l+=1\n",
    "    k+=1\n",
    "    print()\n",
    "    "
   ]
  },
  {
   "cell_type": "raw",
   "id": "ec9e0574",
   "metadata": {},
   "source": []
  },
  {
   "cell_type": "code",
   "execution_count": 11,
   "id": "d70c6389",
   "metadata": {},
   "outputs": [
    {
     "name": "stdout",
     "output_type": "stream",
     "text": [
      "python rocks rocks rocks \n",
      "python rocks rocks rocks \n",
      "python rocks rocks rocks \n",
      "python rocks rocks rocks \n",
      "python rocks rocks rocks \n"
     ]
    }
   ],
   "source": [
    "i=1\n",
    "while i<=5:\n",
    "    print('python',end=' ')\n",
    "    j=1\n",
    "    while j<=3:\n",
    "        print('rocks',end=' ')\n",
    "        j+=1\n",
    "    i+=1\n",
    "    print()"
   ]
  },
  {
   "cell_type": "code",
   "execution_count": 12,
   "id": "97e7f405",
   "metadata": {},
   "outputs": [],
   "source": [
    "# 1 - write a code to print all the values from 1 to 100 skip the numbers which are divisible by 3 & 5"
   ]
  },
  {
   "cell_type": "code",
   "execution_count": 13,
   "id": "1fe1a3a4",
   "metadata": {},
   "outputs": [
    {
     "name": "stdout",
     "output_type": "stream",
     "text": [
      "1 2 4 7 8 11 13 14 16 17 19 22 23 26 28 29 31 32 34 37 38 41 43 44 46 47 49 52 53 56 58 59 61 62 64 67 68 71 73 74 76 77 79 82 83 86 88 89 91 92 94 97 98 "
     ]
    }
   ],
   "source": [
    "i=1\n",
    "while i<=100:\n",
    "    if i%3==0 or i%5==0:\n",
    "        i+=1\n",
    "    else:\n",
    "        print(i,end=' ')\n",
    "        i+=1"
   ]
  },
  {
   "cell_type": "code",
   "execution_count": 14,
   "id": "1b282974",
   "metadata": {},
   "outputs": [],
   "source": [
    "# 2 - write a code to print all the values from 1 to 100 take the numbers which are divisible by 3 & 5"
   ]
  },
  {
   "cell_type": "code",
   "execution_count": 15,
   "id": "be79ed15",
   "metadata": {},
   "outputs": [
    {
     "name": "stdout",
     "output_type": "stream",
     "text": [
      "3 5 6 9 10 12 15 18 20 21 24 25 27 30 33 35 36 39 40 42 45 48 50 51 54 55 57 60 63 65 66 69 70 72 75 78 80 81 84 85 87 90 93 95 96 99 100 "
     ]
    }
   ],
   "source": [
    "i=1\n",
    "while i<=100:\n",
    "    if i%3==0 or i%5==0:\n",
    "        print(i,end=' ')\n",
    "        i+=1\n",
    "    else:\n",
    "        i+=1"
   ]
  },
  {
   "cell_type": "code",
   "execution_count": 16,
   "id": "fc8e6424",
   "metadata": {},
   "outputs": [
    {
     "name": "stdout",
     "output_type": "stream",
     "text": [
      "* * * * * \n",
      "* * * * * \n",
      "* * * * * \n",
      "* * * * * \n",
      "* * * * * \n"
     ]
    }
   ],
   "source": [
    "i=1\n",
    "while i<=5:\n",
    "    print('*',end=' ')\n",
    "    j=1\n",
    "    while j<=4:\n",
    "        print('*',end=' ')\n",
    "        j+=1\n",
    "    i+=1\n",
    "    print()"
   ]
  },
  {
   "cell_type": "code",
   "execution_count": null,
   "id": "d5fb3620",
   "metadata": {},
   "outputs": [],
   "source": []
  }
 ],
 "metadata": {
  "kernelspec": {
   "display_name": "Python 3 (ipykernel)",
   "language": "python",
   "name": "python3"
  },
  "language_info": {
   "codemirror_mode": {
    "name": "ipython",
    "version": 3
   },
   "file_extension": ".py",
   "mimetype": "text/x-python",
   "name": "python",
   "nbconvert_exporter": "python",
   "pygments_lexer": "ipython3",
   "version": "3.9.7"
  }
 },
 "nbformat": 4,
 "nbformat_minor": 5
}
